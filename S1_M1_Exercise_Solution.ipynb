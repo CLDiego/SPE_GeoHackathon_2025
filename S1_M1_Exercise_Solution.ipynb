{
 "cells": [
  {
   "cell_type": "code",
   "execution_count": null,
   "id": "7e2c3f85",
   "metadata": {},
   "outputs": [],
   "source": [
    "# STEP 1\n",
    "def generate_definition(term, tokenizer, model, max_length=150):\n",
    "    \"\"\"Generate a definition for a geoscience term\"\"\"\n",
    "    prompt = f\"What is {term}? {term} is\"\n",
    "    \n",
    "    generated = generate_text(\n",
    "        prompt, \n",
    "        tokenizer, \n",
    "        model, \n",
    "        max_length=max_length, \n",
    "        temperature=0.7\n",
    "    )\n",
    "    \n",
    "    return generated[0]"
   ]
  },
  {
   "cell_type": "code",
   "execution_count": null,
   "id": "95ee2895",
   "metadata": {},
   "outputs": [],
   "source": [
    "# STEP 2\n",
    "print(\"=== Additional Geoscience Definitions ===\")\n",
    "for term in geoscience_terms_exercise:\n",
    "    definition = generate_definition(term, tokenizer_gen, model_gen, max_length=100)\n",
    "    print(f\"\\n{term.upper()}:\")\n",
    "    print(definition)\n",
    "    print(\"-\" * 60)"
   ]
  },
  {
   "cell_type": "code",
   "execution_count": null,
   "id": "6f05fea5",
   "metadata": {},
   "outputs": [],
   "source": [
    "# STEP 3\n",
    "prompting_strategies = [\n",
    "    f\"What is {term}?\",\n",
    "    f\"Define {term}:\",\n",
    "    f\"{term} is a geophysical technique that\",\n",
    "    f\"In geophysics, {term} refers to\",\n",
    "    f\"Question: What is {term}?\\nAnswer:\"\n",
    "]"
   ]
  },
  {
   "cell_type": "code",
   "execution_count": null,
   "id": "f520742b",
   "metadata": {},
   "outputs": [],
   "source": [
    "# STEP 4\n",
    "print(\"=== Comparing Prompting Strategies ===\")\n",
    "for i, prompt in enumerate(prompting_strategies, 1):\n",
    "    generated = generate_text(prompt, tokenizer_gen, model_gen, max_length=80, temperature=0.6)\n",
    "    print(f\"\\nStrategy {i}: '{prompt}'\")\n",
    "    print(f\"Response: {generated[0]}\")\n",
    "    print(\"-\" * 60)"
   ]
  }
 ],
 "metadata": {
  "language_info": {
   "name": "python"
  }
 },
 "nbformat": 4,
 "nbformat_minor": 5
}
