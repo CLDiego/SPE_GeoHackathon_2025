{
 "cells": [
  {
   "cell_type": "markdown",
   "id": "88188cbb",
   "metadata": {},
   "source": [
    "[![Open In Colab](https://colab.research.google.com/assets/colab-badge.svg)](https://colab.research.google.com/github/CLDiego/SPE_GeoHackathon_2025/blob/main/MOD_00_LLM_BASICS.ipynb)\n",
    "\n",
    "***\n",
    "- <img src=\"https://github.com/CLDiego/uom_fse_dl_workshop/raw/main/figs/icons/write.svg\" width=\"20\"/> Follow along by running each cell in order\n",
    "- <img src=\"https://github.com/CLDiego/uom_fse_dl_workshop/raw/main/figs/icons/code.svg\" width=\"20\"/> Make sure to run the environment setup cells first\n",
    "- <img src=\"https://github.com/CLDiego/uom_fse_dl_workshop/raw/main/figs/icons/reminder.svg\" width=\"20\"/> Wait for each installation to complete before proceeding\n",
    "- <img src=\"https://github.com/CLDiego/uom_fse_dl_workshop/raw/main/figs/icons/success.svg\" width=\"20\" /> Verify installations by running the test cells\n",
    "- <img src=\"https://github.com/CLDiego/uom_fse_dl_workshop/raw/main/figs/icons/list.svg\" width=\"20\" /> Don't worry if installations take a while - this is normal!\n"
   ]
  },
  {
   "cell_type": "markdown",
   "id": "98a59544",
   "metadata": {},
   "source": [
    "# Module 00: Large Language Models (LLMs) Basics with HuggingFace\n",
    "\n",
    "LLMs are a type of artificial intelligence model designed to understand and generate human-like text based on the input they receive. They are trained on vast amounts of text data and can perform a variety of language tasks, such as translation, summarization, and question-answering.\n",
    "\n",
    "The revolutionary aspect of LLMs lies in their ability to generate coherent and contextually relevant text, making them valuable tools for a wide range of applications, from chatbots to content creation. LLMs massive breakthrough came from the paper \"Attention is all you need\" by Vaswani et al. in 2017, which introduced the Transformer architecture. This architecture relies on a mechanism called \"self-attention\" that allows the model to weigh the importance of different words in a sentence, regardless of their position. This was a significant departure from previous models that processed text sequentially, enabling much more efficient training on large datasets.\n",
    "\n",
    "The transformer architecture is shown below:\n",
    "\n",
    "![Transformer Architecture](https://github.com/CLDiego/uom_fse_dl_workshop/raw/main/figs/transformer.png)\n",
    "\n",
    "A transformer is composed of:\n",
    "- An encoder that processes the input text and generates a contextual representation.\n",
    "- A decoder that takes the encoder's output and generates the final text output.\n",
    "- Multi-head self-attention mechanisms that allow the model to focus on different parts of the input text simultaneously.\n",
    "- Feed-forward neural networks that process the information from the attention layers.\n",
    "- Layer normalization and residual connections that help stabilize and improve the training process.\n",
    "\n",
    "## Passing Inputs Through the Transformer\n",
    "While the input text is processed by the encoder, it is transformed into a series of continuous representations, or embeddings, that capture the meaning and context of the words. These embeddings are then passed to the decoder, which generates the output text one token at a time. The self-attention mechanism allows the model to consider the entire input sequence when producing each token, enabling it to generate more coherent and contextually relevant text.\n",
    "\n",
    "However, before the input text can be processed by the transformer, it must be tokenized and converted into a format that the model can understand. This involves breaking the text into smaller units, or tokens, and mapping these tokens to their corresponding embeddings in a high-dimensional space. The transformer then processes these embeddings through its layers, applying self-attention and feed-forward networks to generate the final output.\n",
    "\n",
    "## Tokenizers"
   ]
  },
  {
   "cell_type": "code",
   "execution_count": 1,
   "id": "e8cd9a37",
   "metadata": {},
   "outputs": [
    {
     "data": {
      "text/html": [
       "<div style=\"margin-bottom: 10px;\"><span style=\"background-color:#00FFFF; color: white; margin-right: 5px;\">i</span><span style=\"background-color:#FF69B4; color: white; margin-right: 5px;\">and</span><span style=\"background-color:#FF5733; color: white; margin-right: 5px;\">pang</span><span style=\"background-color:#FF0000; color: white; margin-right: 5px;\">##ur</span><span style=\"background-color:#FFD700; color: white; margin-right: 5px;\">ban</span><span style=\"background-color:#00CED1; color: white; margin-right: 5px;\">,</span><span style=\"background-color:#FF8C00; color: white; margin-right: 5px;\">my</span><span style=\"background-color:#1E90FF; color: white; margin-right: 5px;\">cat</span><span style=\"background-color:#00CED1; color: white; margin-right: 5px;\">,</span></div><div style=\"margin-bottom: 10px;\"><span style=\"background-color:#00FF00; color: white; margin-right: 5px;\">'</span><span style=\"background-color:#8A2BE2; color: white; margin-right: 5px;\">tis</span><span style=\"background-color:#FF5733; color: white; margin-right: 5px;\">a</span><span style=\"background-color:#00CED1; color: white; margin-right: 5px;\">like</span><span style=\"background-color:#00CED1; color: white; margin-right: 5px;\">task</span><span style=\"background-color:#32CD32; color: white; margin-right: 5px;\">we</span><span style=\"background-color:#1E90FF; color: white; margin-right: 5px;\">are</span><span style=\"background-color:#0000FF; color: white; margin-right: 5px;\">at</span><span style=\"background-color:#FF1493; color: white; margin-right: 5px;\">;</span></div><div style=\"margin-bottom: 10px;\"><span style=\"background-color:#0000FF; color: white; margin-right: 5px;\">hunting</span><span style=\"background-color:#FF00FF; color: white; margin-right: 5px;\">mice</span><span style=\"background-color:#33FF57; color: white; margin-right: 5px;\">is</span><span style=\"background-color:#DC143C; color: white; margin-right: 5px;\">his</span><span style=\"background-color:#FF8C00; color: white; margin-right: 5px;\">delight</span><span style=\"background-color:#00CED1; color: white; margin-right: 5px;\">,</span></div><div style=\"margin-bottom: 10px;\"><span style=\"background-color:#0000FF; color: white; margin-right: 5px;\">hunting</span><span style=\"background-color:#FFD700; color: white; margin-right: 5px;\">words</span><span style=\"background-color:#00FFFF; color: white; margin-right: 5px;\">i</span><span style=\"background-color:#3357FF; color: white; margin-right: 5px;\">sit</span><span style=\"background-color:#FFD700; color: white; margin-right: 5px;\">all</span><span style=\"background-color:#00FF00; color: white; margin-right: 5px;\">night</span><span style=\"background-color:#DC143C; color: white; margin-right: 5px;\">.</span></div><div style=\"margin-bottom: 10px;\"><span style=\"background-color:#3357FF; color: white; margin-right: 5px;\">better</span><span style=\"background-color:#00FFFF; color: white; margin-right: 5px;\">far</span><span style=\"background-color:#FF1493; color: white; margin-right: 5px;\">than</span><span style=\"background-color:#32CD32; color: white; margin-right: 5px;\">praise</span><span style=\"background-color:#00FF00; color: white; margin-right: 5px;\">of</span><span style=\"background-color:#0000FF; color: white; margin-right: 5px;\">men</span></div><div style=\"margin-bottom: 10px;\"><span style=\"background-color:#00FF00; color: white; margin-right: 5px;\">'</span><span style=\"background-color:#8A2BE2; color: white; margin-right: 5px;\">tis</span><span style=\"background-color:#FF69B4; color: white; margin-right: 5px;\">to</span><span style=\"background-color:#3357FF; color: white; margin-right: 5px;\">sit</span><span style=\"background-color:#FFD700; color: white; margin-right: 5px;\">with</span><span style=\"background-color:#32CD32; color: white; margin-right: 5px;\">book</span><span style=\"background-color:#FF69B4; color: white; margin-right: 5px;\">and</span><span style=\"background-color:#FF5733; color: white; margin-right: 5px;\">pen</span><span style=\"background-color:#FF1493; color: white; margin-right: 5px;\">;</span></div><div style=\"margin-bottom: 10px;\"><span style=\"background-color:#FF5733; color: white; margin-right: 5px;\">pang</span><span style=\"background-color:#FF0000; color: white; margin-right: 5px;\">##ur</span><span style=\"background-color:#00CED1; color: white; margin-right: 5px;\">bears</span><span style=\"background-color:#33FF57; color: white; margin-right: 5px;\">me</span><span style=\"background-color:#33FF57; color: white; margin-right: 5px;\">no</span><span style=\"background-color:#FF69B4; color: white; margin-right: 5px;\">ill</span><span style=\"background-color:#1E90FF; color: white; margin-right: 5px;\">-</span><span style=\"background-color:#FFFF00; color: white; margin-right: 5px;\">will</span><span style=\"background-color:#00CED1; color: white; margin-right: 5px;\">,</span></div><div style=\"margin-bottom: 10px;\"><span style=\"background-color:#DC143C; color: white; margin-right: 5px;\">he</span><span style=\"background-color:#00CED1; color: white; margin-right: 5px;\">,</span><span style=\"background-color:#FFD700; color: white; margin-right: 5px;\">too</span><span style=\"background-color:#00CED1; color: white; margin-right: 5px;\">,</span><span style=\"background-color:#FF1493; color: white; margin-right: 5px;\">pl</span><span style=\"background-color:#3357FF; color: white; margin-right: 5px;\">##ies</span><span style=\"background-color:#DC143C; color: white; margin-right: 5px;\">his</span><span style=\"background-color:#FF1493; color: white; margin-right: 5px;\">simple</span><span style=\"background-color:#32CD32; color: white; margin-right: 5px;\">skill</span><span style=\"background-color:#DC143C; color: white; margin-right: 5px;\">.</span></div><div style=\"margin-bottom: 10px;\"><span style=\"background-color:#00FF00; color: white; margin-right: 5px;\">'</span><span style=\"background-color:#8A2BE2; color: white; margin-right: 5px;\">tis</span><span style=\"background-color:#FF5733; color: white; margin-right: 5px;\">a</span><span style=\"background-color:#00FF00; color: white; margin-right: 5px;\">merry</span><span style=\"background-color:#1E90FF; color: white; margin-right: 5px;\">thing</span><span style=\"background-color:#FF69B4; color: white; margin-right: 5px;\">to</span><span style=\"background-color:#FF1493; color: white; margin-right: 5px;\">see</span></div><div style=\"margin-bottom: 10px;\"><span style=\"background-color:#0000FF; color: white; margin-right: 5px;\">at</span><span style=\"background-color:#8A2BE2; color: white; margin-right: 5px;\">our</span><span style=\"background-color:#FFD700; color: white; margin-right: 5px;\">tasks</span><span style=\"background-color:#0000FF; color: white; margin-right: 5px;\">how</span><span style=\"background-color:#FFFF00; color: white; margin-right: 5px;\">glad</span><span style=\"background-color:#1E90FF; color: white; margin-right: 5px;\">are</span><span style=\"background-color:#32CD32; color: white; margin-right: 5px;\">we</span><span style=\"background-color:#00CED1; color: white; margin-right: 5px;\">,</span></div><div style=\"margin-bottom: 10px;\"><span style=\"background-color:#3357FF; color: white; margin-right: 5px;\">when</span><span style=\"background-color:#0000FF; color: white; margin-right: 5px;\">at</span><span style=\"background-color:#FFD700; color: white; margin-right: 5px;\">home</span><span style=\"background-color:#32CD32; color: white; margin-right: 5px;\">we</span><span style=\"background-color:#3357FF; color: white; margin-right: 5px;\">sit</span><span style=\"background-color:#FF69B4; color: white; margin-right: 5px;\">and</span><span style=\"background-color:#00CED1; color: white; margin-right: 5px;\">find</span></div><div style=\"margin-bottom: 10px;\"><span style=\"background-color:#FFD700; color: white; margin-right: 5px;\">entertainment</span><span style=\"background-color:#FF69B4; color: white; margin-right: 5px;\">to</span><span style=\"background-color:#8A2BE2; color: white; margin-right: 5px;\">our</span><span style=\"background-color:#8A2BE2; color: white; margin-right: 5px;\">mind</span><span style=\"background-color:#DC143C; color: white; margin-right: 5px;\">.</span></div><div style=\"margin-bottom: 10px;\"><span style=\"background-color:#FF1493; color: white; margin-right: 5px;\">often</span><span style=\"background-color:#00FFFF; color: white; margin-right: 5px;\">##time</span><span style=\"background-color:#FFD700; color: white; margin-right: 5px;\">##s</span><span style=\"background-color:#FF5733; color: white; margin-right: 5px;\">a</span><span style=\"background-color:#FF0000; color: white; margin-right: 5px;\">mouse</span><span style=\"background-color:#FFFF00; color: white; margin-right: 5px;\">will</span><span style=\"background-color:#DC143C; color: white; margin-right: 5px;\">stray</span></div><div style=\"margin-bottom: 10px;\"><span style=\"background-color:#FF0000; color: white; margin-right: 5px;\">in</span><span style=\"background-color:#FF00FF; color: white; margin-right: 5px;\">the</span><span style=\"background-color:#00FFFF; color: white; margin-right: 5px;\">hero</span><span style=\"background-color:#FF5733; color: white; margin-right: 5px;\">pang</span><span style=\"background-color:#FF0000; color: white; margin-right: 5px;\">##ur</span><span style=\"background-color:#00FF00; color: white; margin-right: 5px;\">'</span><span style=\"background-color:#FF8C00; color: white; margin-right: 5px;\">s</span><span style=\"background-color:#33FF57; color: white; margin-right: 5px;\">way</span><span style=\"background-color:#FF1493; color: white; margin-right: 5px;\">;</span></div><div style=\"margin-bottom: 10px;\"><span style=\"background-color:#FF1493; color: white; margin-right: 5px;\">often</span><span style=\"background-color:#00FFFF; color: white; margin-right: 5px;\">##time</span><span style=\"background-color:#FFD700; color: white; margin-right: 5px;\">##s</span><span style=\"background-color:#FF8C00; color: white; margin-right: 5px;\">my</span><span style=\"background-color:#FF5733; color: white; margin-right: 5px;\">keen</span><span style=\"background-color:#00FFFF; color: white; margin-right: 5px;\">thought</span><span style=\"background-color:#FFD700; color: white; margin-right: 5px;\">set</span></div><div style=\"margin-bottom: 10px;\"><span style=\"background-color:#3357FF; color: white; margin-right: 5px;\">takes</span><span style=\"background-color:#FF5733; color: white; margin-right: 5px;\">a</span><span style=\"background-color:#FF69B4; color: white; margin-right: 5px;\">meaning</span><span style=\"background-color:#FF0000; color: white; margin-right: 5px;\">in</span><span style=\"background-color:#FF1493; color: white; margin-right: 5px;\">its</span><span style=\"background-color:#FF69B4; color: white; margin-right: 5px;\">net</span><span style=\"background-color:#DC143C; color: white; margin-right: 5px;\">.</span></div><div style=\"margin-bottom: 10px;\"><span style=\"background-color:#00FF00; color: white; margin-right: 5px;\">'</span><span style=\"background-color:#228B22; color: white; margin-right: 5px;\">gains</span><span style=\"background-color:#FF1493; color: white; margin-right: 5px;\">##t</span><span style=\"background-color:#FF00FF; color: white; margin-right: 5px;\">the</span><span style=\"background-color:#00FFFF; color: white; margin-right: 5px;\">wall</span><span style=\"background-color:#DC143C; color: white; margin-right: 5px;\">he</span><span style=\"background-color:#228B22; color: white; margin-right: 5px;\">sets</span><span style=\"background-color:#DC143C; color: white; margin-right: 5px;\">his</span><span style=\"background-color:#FF0000; color: white; margin-right: 5px;\">eye</span></div><div style=\"margin-bottom: 10px;\"><span style=\"background-color:#FFFF00; color: white; margin-right: 5px;\">full</span><span style=\"background-color:#FF69B4; color: white; margin-right: 5px;\">and</span><span style=\"background-color:#FFFF00; color: white; margin-right: 5px;\">fierce</span><span style=\"background-color:#FF69B4; color: white; margin-right: 5px;\">and</span><span style=\"background-color:#3357FF; color: white; margin-right: 5px;\">sharp</span><span style=\"background-color:#FF69B4; color: white; margin-right: 5px;\">and</span><span style=\"background-color:#FFD700; color: white; margin-right: 5px;\">sly</span><span style=\"background-color:#FF1493; color: white; margin-right: 5px;\">;</span></div><div style=\"margin-bottom: 10px;\"><span style=\"background-color:#00FF00; color: white; margin-right: 5px;\">'</span><span style=\"background-color:#228B22; color: white; margin-right: 5px;\">gains</span><span style=\"background-color:#FF1493; color: white; margin-right: 5px;\">##t</span><span style=\"background-color:#FF00FF; color: white; margin-right: 5px;\">the</span><span style=\"background-color:#00FFFF; color: white; margin-right: 5px;\">wall</span><span style=\"background-color:#00FF00; color: white; margin-right: 5px;\">of</span><span style=\"background-color:#00FFFF; color: white; margin-right: 5px;\">knowledge</span><span style=\"background-color:#00FFFF; color: white; margin-right: 5px;\">i</span></div><div style=\"margin-bottom: 10px;\"><span style=\"background-color:#FFD700; color: white; margin-right: 5px;\">all</span><span style=\"background-color:#FF8C00; color: white; margin-right: 5px;\">my</span><span style=\"background-color:#32CD32; color: white; margin-right: 5px;\">little</span><span style=\"background-color:#FFD700; color: white; margin-right: 5px;\">wisdom</span><span style=\"background-color:#FFD700; color: white; margin-right: 5px;\">try</span><span style=\"background-color:#DC143C; color: white; margin-right: 5px;\">.</span></div><div style=\"margin-bottom: 10px;\"><span style=\"background-color:#3357FF; color: white; margin-right: 5px;\">when</span><span style=\"background-color:#FF5733; color: white; margin-right: 5px;\">a</span><span style=\"background-color:#FF0000; color: white; margin-right: 5px;\">mouse</span><span style=\"background-color:#8A2BE2; color: white; margin-right: 5px;\">darts</span><span style=\"background-color:#FF5733; color: white; margin-right: 5px;\">from</span><span style=\"background-color:#FF1493; color: white; margin-right: 5px;\">its</span><span style=\"background-color:#1E90FF; color: white; margin-right: 5px;\">den</span><span style=\"background-color:#00CED1; color: white; margin-right: 5px;\">,</span></div><div style=\"margin-bottom: 10px;\"><span style=\"background-color:#8A2BE2; color: white; margin-right: 5px;\">o</span><span style=\"background-color:#FF0000; color: white; margin-right: 5px;\">!</span><span style=\"background-color:#0000FF; color: white; margin-right: 5px;\">how</span><span style=\"background-color:#FFFF00; color: white; margin-right: 5px;\">glad</span><span style=\"background-color:#33FF57; color: white; margin-right: 5px;\">is</span><span style=\"background-color:#FF5733; color: white; margin-right: 5px;\">pang</span><span style=\"background-color:#FF0000; color: white; margin-right: 5px;\">##ur</span><span style=\"background-color:#FFFF00; color: white; margin-right: 5px;\">then</span><span style=\"background-color:#FF1493; color: white; margin-right: 5px;\">;</span></div><div style=\"margin-bottom: 10px;\"><span style=\"background-color:#8A2BE2; color: white; margin-right: 5px;\">o</span><span style=\"background-color:#FF0000; color: white; margin-right: 5px;\">!</span><span style=\"background-color:#FFD700; color: white; margin-right: 5px;\">what</span><span style=\"background-color:#FFFF00; color: white; margin-right: 5px;\">glad</span><span style=\"background-color:#0000FF; color: white; margin-right: 5px;\">##ness</span><span style=\"background-color:#DC143C; color: white; margin-right: 5px;\">do</span><span style=\"background-color:#00FFFF; color: white; margin-right: 5px;\">i</span><span style=\"background-color:#FFD700; color: white; margin-right: 5px;\">prove</span></div><div style=\"margin-bottom: 10px;\"><span style=\"background-color:#3357FF; color: white; margin-right: 5px;\">when</span><span style=\"background-color:#00FFFF; color: white; margin-right: 5px;\">i</span><span style=\"background-color:#3357FF; color: white; margin-right: 5px;\">solve</span><span style=\"background-color:#FF00FF; color: white; margin-right: 5px;\">the</span><span style=\"background-color:#00CED1; color: white; margin-right: 5px;\">doubts</span><span style=\"background-color:#00FFFF; color: white; margin-right: 5px;\">i</span><span style=\"background-color:#FFFF00; color: white; margin-right: 5px;\">love</span><span style=\"background-color:#DC143C; color: white; margin-right: 5px;\">.</span></div><div style=\"margin-bottom: 10px;\"><span style=\"background-color:#FF8C00; color: white; margin-right: 5px;\">so</span><span style=\"background-color:#FF0000; color: white; margin-right: 5px;\">in</span><span style=\"background-color:#FFFF00; color: white; margin-right: 5px;\">peace</span><span style=\"background-color:#8A2BE2; color: white; margin-right: 5px;\">our</span><span style=\"background-color:#00CED1; color: white; margin-right: 5px;\">task</span><span style=\"background-color:#32CD32; color: white; margin-right: 5px;\">we</span><span style=\"background-color:#FF1493; color: white; margin-right: 5px;\">pl</span><span style=\"background-color:#FF1493; color: white; margin-right: 5px;\">##y</span><span style=\"background-color:#00CED1; color: white; margin-right: 5px;\">,</span></div><div style=\"margin-bottom: 10px;\"><span style=\"background-color:#FF5733; color: white; margin-right: 5px;\">pang</span><span style=\"background-color:#FF0000; color: white; margin-right: 5px;\">##ur</span><span style=\"background-color:#FFD700; color: white; margin-right: 5px;\">ban</span><span style=\"background-color:#00CED1; color: white; margin-right: 5px;\">,</span><span style=\"background-color:#FF8C00; color: white; margin-right: 5px;\">my</span><span style=\"background-color:#1E90FF; color: white; margin-right: 5px;\">cat</span><span style=\"background-color:#00CED1; color: white; margin-right: 5px;\">,</span><span style=\"background-color:#FF69B4; color: white; margin-right: 5px;\">and</span><span style=\"background-color:#00FFFF; color: white; margin-right: 5px;\">i</span><span style=\"background-color:#FF1493; color: white; margin-right: 5px;\">;</span></div><div style=\"margin-bottom: 10px;\"><span style=\"background-color:#FF0000; color: white; margin-right: 5px;\">in</span><span style=\"background-color:#8A2BE2; color: white; margin-right: 5px;\">our</span><span style=\"background-color:#FF1493; color: white; margin-right: 5px;\">arts</span><span style=\"background-color:#32CD32; color: white; margin-right: 5px;\">we</span><span style=\"background-color:#00CED1; color: white; margin-right: 5px;\">find</span><span style=\"background-color:#8A2BE2; color: white; margin-right: 5px;\">our</span><span style=\"background-color:#FFD700; color: white; margin-right: 5px;\">bliss</span><span style=\"background-color:#00CED1; color: white; margin-right: 5px;\">,</span></div><div style=\"margin-bottom: 10px;\"><span style=\"background-color:#00FFFF; color: white; margin-right: 5px;\">i</span><span style=\"background-color:#FF00FF; color: white; margin-right: 5px;\">have</span><span style=\"background-color:#FF00FF; color: white; margin-right: 5px;\">mine</span><span style=\"background-color:#00CED1; color: white; margin-right: 5px;\">,</span><span style=\"background-color:#FF69B4; color: white; margin-right: 5px;\">and</span><span style=\"background-color:#DC143C; color: white; margin-right: 5px;\">he</span><span style=\"background-color:#FFD700; color: white; margin-right: 5px;\">has</span><span style=\"background-color:#DC143C; color: white; margin-right: 5px;\">his</span><span style=\"background-color:#DC143C; color: white; margin-right: 5px;\">.</span></div><div style=\"margin-bottom: 10px;\"><span style=\"background-color:#8A2BE2; color: white; margin-right: 5px;\">practice</span><span style=\"background-color:#FF1493; color: white; margin-right: 5px;\">every</span><span style=\"background-color:#0000FF; color: white; margin-right: 5px;\">day</span><span style=\"background-color:#FFD700; color: white; margin-right: 5px;\">has</span><span style=\"background-color:#00FFFF; color: white; margin-right: 5px;\">made</span></div><div style=\"margin-bottom: 10px;\"><span style=\"background-color:#FF5733; color: white; margin-right: 5px;\">pang</span><span style=\"background-color:#FF0000; color: white; margin-right: 5px;\">##ur</span><span style=\"background-color:#FF00FF; color: white; margin-right: 5px;\">perfect</span><span style=\"background-color:#FF0000; color: white; margin-right: 5px;\">in</span><span style=\"background-color:#DC143C; color: white; margin-right: 5px;\">his</span><span style=\"background-color:#FF1493; color: white; margin-right: 5px;\">trade</span><span style=\"background-color:#FF1493; color: white; margin-right: 5px;\">;</span></div><div style=\"margin-bottom: 10px;\"><span style=\"background-color:#00FFFF; color: white; margin-right: 5px;\">i</span><span style=\"background-color:#0000FF; color: white; margin-right: 5px;\">get</span><span style=\"background-color:#FFD700; color: white; margin-right: 5px;\">wisdom</span><span style=\"background-color:#0000FF; color: white; margin-right: 5px;\">day</span><span style=\"background-color:#FF69B4; color: white; margin-right: 5px;\">and</span><span style=\"background-color:#00FF00; color: white; margin-right: 5px;\">night</span><span style=\"background-color:#00CED1; color: white; margin-right: 5px;\">,</span></div><div style=\"margin-bottom: 10px;\"><span style=\"background-color:#32CD32; color: white; margin-right: 5px;\">turning</span><span style=\"background-color:#228B22; color: white; margin-right: 5px;\">darkness</span><span style=\"background-color:#FF5733; color: white; margin-right: 5px;\">into</span><span style=\"background-color:#FF69B4; color: white; margin-right: 5px;\">light</span><span style=\"background-color:#DC143C; color: white; margin-right: 5px;\">.</span></div>"
      ],
      "text/plain": [
       "<IPython.core.display.HTML object>"
      ]
     },
     "metadata": {},
     "output_type": "display_data"
    }
   ],
   "source": [
    "from transformers import BertTokenizer\n",
    "from IPython.display import HTML, display\n",
    "\n",
    "tokenizer = BertTokenizer.from_pretrained('bert-base-uncased')\n",
    "def bert_tokenize_and_color(text, tokenizer ):\n",
    "    colored_text = \"\"\n",
    "    colors = ['#FF5733', '#33FF57', '#3357FF', '#FFD700', '#00CED1', '#FF00FF', '#FFFF00',\n",
    "              '#FF0000', '#00FF00', '#0000FF', '#00FFFF', '#FF1493', '#8A2BE2',\n",
    "              '#FF8C00', '#228B22', '#DC143C', '#32CD32', '#1E90FF', '#FFD700', '#FF69B4']\n",
    "\n",
    "    for line in text:\n",
    "        line_html = \"\"\n",
    "        tokens = tokenizer.tokenize(line)\n",
    "        for token in tokens:\n",
    "            color = colors[hash(token) % len(colors)]\n",
    "            token_html = f'<span style=\"background-color:{color}; color: white; margin-right: 5px;\">{token}</span>'\n",
    "            line_html += token_html\n",
    "        colored_text += f'<div style=\"margin-bottom: 10px;\">{line_html}</div>'\n",
    "\n",
    "    display(HTML(colored_text))\n",
    "\n",
    "# Example usage\n",
    "text = [\n",
    "    \"I and Pangur Bán, my cat,\",\n",
    "    \"'Tis a like task we are at;\",\n",
    "    \"Hunting mice is his delight,\",\n",
    "    \"Hunting words I sit all night.\",\n",
    "    \"Better far than praise of men\",\n",
    "    \"'Tis to sit with book and pen;\",\n",
    "    \"Pangur bears me no ill-will,\",\n",
    "    \"He, too, plies his simple skill.\",\n",
    "    \"'Tis a merry thing to see\",\n",
    "    \"At our tasks how glad are we,\",\n",
    "    \"When at home we sit and find\",\n",
    "    \"Entertainment to our mind.\",\n",
    "    \"Oftentimes a mouse will stray\",\n",
    "    \"In the hero Pangur's way;\",\n",
    "    \"Oftentimes my keen thought set\",\n",
    "    \"Takes a meaning in its net.\",\n",
    "    \"'Gainst the wall he sets his eye\",\n",
    "    \"Full and fierce and sharp and sly;\",\n",
    "    \"'Gainst the wall of knowledge I\",\n",
    "    \"All my little wisdom try.\",\n",
    "    \"When a mouse darts from its den,\",\n",
    "    \"O! how glad is Pangur then;\",\n",
    "    \"O! what gladness do I prove\",\n",
    "    \"When I solve the doubts I love.\",\n",
    "    \"So in peace our task we ply,\",\n",
    "    \"Pangur Bán, my cat, and I;\",\n",
    "    \"In our arts we find our bliss,\",\n",
    "    \"I have mine, and he has his.\",\n",
    "    \"Practice every day has made\",\n",
    "    \"Pangur perfect in his trade;\",\n",
    "    \"I get wisdom day and night,\",\n",
    "    \"Turning darkness into light.\"\n",
    "]\n",
    "bert_tokenize_and_color(text, tokenizer)"
   ]
  },
  {
   "cell_type": "code",
   "execution_count": 12,
   "id": "bcae931a",
   "metadata": {},
   "outputs": [
    {
     "name": "stdout",
     "output_type": "stream",
     "text": [
      "Sample vocabulary (first 20): ['[PAD]', '[unused0]', '[unused1]', '[unused2]', '[unused3]', '[unused4]', '[unused5]', '[unused6]', '[unused7]', '[unused8]', '[unused9]', '[unused10]', '[unused11]', '[unused12]', '[unused13]', '[unused14]', '[unused15]', '[unused16]', '[unused17]', '[unused18]']\n",
      "\n",
      "Special tokens: {'unk_token': '[UNK]', 'sep_token': '[SEP]', 'pad_token': '[PAD]', 'cls_token': '[CLS]', 'mask_token': '[MASK]'}\n",
      "\n",
      "Sample text: I and Pangur Bán, my cat,\n",
      "Tokens: ['i', 'and', 'pang', '##ur', 'ban', ',', 'my', 'cat', ',']\n",
      "Token IDs: [1045, 1998, 20657, 3126, 7221, 1010, 2026, 4937, 1010]\n",
      "\n",
      "Full encoding (input_ids): tensor([[  101,  1045,  1998, 20657,  3126,  7221,  1010,  2026,  4937,  1010,\n",
      "           102]])\n",
      "Attention mask: tensor([[1, 1, 1, 1, 1, 1, 1, 1, 1, 1, 1]])\n",
      "Decoded tokens: i and pangur ban, my cat,\n"
     ]
    }
   ],
   "source": [
    "# Display sample vocabulary, special tokens, and token mapping\n",
    "\n",
    "# Sample vocab (first 20 keys)\n",
    "vocab = tokenizer.get_vocab()\n",
    "print(\"Sample vocabulary (first 20):\", list(vocab.keys())[:20])\n",
    "\n",
    "# Special tokens\n",
    "print(\"\\nSpecial tokens:\", tokenizer.special_tokens_map)\n",
    "\n",
    "# Mapping for the first line of the poem\n",
    "sample_text = text[0]\n",
    "tokens = tokenizer.tokenize(sample_text)\n",
    "token_ids = tokenizer.convert_tokens_to_ids(tokens)\n",
    "print(f\"\\nSample text: {sample_text}\")\n",
    "print(f\"Tokens: {tokens}\")\n",
    "print(f\"Token IDs: {token_ids}\")\n",
    "\n",
    "# Full encoding for the first line\n",
    "encoded = tokenizer(sample_text, return_tensors='pt')\n",
    "print(f\"\\nFull encoding (input_ids): {encoded['input_ids']}\")\n",
    "print(f\"Attention mask: {encoded['attention_mask']}\")\n",
    "\n",
    "decoded = tokenizer.decode(token_ids)\n",
    "print(f\"Decoded tokens: {decoded}\")"
   ]
  },
  {
   "cell_type": "code",
   "execution_count": 13,
   "id": "fa97730a",
   "metadata": {},
   "outputs": [],
   "source": [
    "from transformers import AutoTokenizer, AutoModel\n",
    "import torch\n",
    "from sklearn.manifold import TSNE\n",
    "import matplotlib.pyplot as plt\n",
    "\n",
    "# Load model + tokenizer\n",
    "tokenizer = AutoTokenizer.from_pretrained(\"sentence-transformers/all-MiniLM-L6-v2\")\n",
    "model = AutoModel.from_pretrained(\"sentence-transformers/all-MiniLM-L6-v2\")\n",
    "\n",
    "# Encode sentences\n",
    "inputs = tokenizer(text, padding=True, truncation=True, return_tensors=\"pt\")\n",
    "with torch.no_grad():\n",
    "    embeddings = model(**inputs).last_hidden_state[:,0,:]  # CLS token\n",
    "\n",
    "# Reduce dimensions to 3D with t-SNE\n",
    "tsne = TSNE(n_components=3, perplexity=5, random_state=42)\n",
    "embeddings_3d = tsne.fit_transform(embeddings.numpy())"
   ]
  },
  {
   "cell_type": "markdown",
   "id": "25d0d325",
   "metadata": {},
   "source": [
    "## Visualization Explanation\n",
    "\n",
    "This interactive 3D scatter plot displays the sentence embeddings of lines from the poem \"Pangur Bán\" (by an anonymous Irish monk, c. 9th century), reduced to 3D space using t-SNE for dimensionality reduction. Each point represents one line of the poem, positioned based on its semantic similarity in the embedding space. The color gradient corresponds to the line index (0 to 31), indicating the sequential order in the poem. Hover over any point to view the full text of that line. This helps visualize how the model captures thematic and contextual relationships between the poem's verses."
   ]
  },
  {
   "cell_type": "code",
   "execution_count": 14,
   "id": "7ec07038",
   "metadata": {},
   "outputs": [
    {
     "data": {
      "application/vnd.plotly.v1+json": {
       "config": {
        "plotlyServerURL": "https://plot.ly"
       },
       "data": [
        {
         "hovertemplate": "<b>%{hovertext}</b><br><br>Dimension 1=%{x}<br>Dimension 2=%{y}<br>Dimension 3=%{z}<br>color=%{marker.color}<extra></extra>",
         "hovertext": [
          "I and Pangur Bán, my cat,",
          "'Tis a like task we are at;",
          "Hunting mice is his delight,",
          "Hunting words I sit all night.",
          "Better far than praise of men",
          "'Tis to sit with book and pen;",
          "Pangur bears me no ill-will,",
          "He, too, plies his simple skill.",
          "'Tis a merry thing to see",
          "At our tasks how glad are we,",
          "When at home we sit and find",
          "Entertainment to our mind.",
          "Oftentimes a mouse will stray",
          "In the hero Pangur's way;",
          "Oftentimes my keen thought set",
          "Takes a meaning in its net.",
          "'Gainst the wall he sets his eye",
          "Full and fierce and sharp and sly;",
          "'Gainst the wall of knowledge I",
          "All my little wisdom try.",
          "When a mouse darts from its den,",
          "O! how glad is Pangur then;",
          "O! what gladness do I prove",
          "When I solve the doubts I love.",
          "So in peace our task we ply,",
          "Pangur Bán, my cat, and I;",
          "In our arts we find our bliss,",
          "I have mine, and he has his.",
          "Practice every day has made",
          "Pangur perfect in his trade;",
          "I get wisdom day and night,",
          "Turning darkness into light."
         ],
         "legendgroup": "",
         "marker": {
          "color": {
           "bdata": "AAECAwQFBgcICQoLDA0ODxAREhMUFRYXGBkaGxwdHh8=",
           "dtype": "i1"
          },
          "coloraxis": "coloraxis",
          "opacity": 0.7,
          "size": 5,
          "symbol": "circle"
         },
         "mode": "markers",
         "name": "",
         "scene": "scene",
         "showlegend": false,
         "type": "scatter3d",
         "x": {
          "bdata": "Y/Zpwz+Ca0LpdcXCotkMQxYGxUKsqG1CyeAVQzs7GUM++IXCPNMoQq4+HUOxt0DC24+VwoZWRsIetbBC1XZewbZxu0PxrQdBFsElw5w/scKEKZPCggzEQb3YJMMki+zCb9yMQQqkZ0NyoKlB19KXwqAYMUK5HdvBeXDcQlUJ5MI=",
          "dtype": "f4"
         },
         "y": {
          "bdata": "HPs6wkEbEsFJdNdCH9/EQnVPtcHrzKzC1ZW/wglDn0MUuxlBc9tQQkbNEUImOlhBlsNhQI/gu0JtxmHC6TJtwv3AocB6DAjCblSjQf95S8Ltf+lC9WavQrutB0OC+9FAO0i/QSIWL0GmEg5DR1XkwwOBGMP7meHCBFChQqjQ4MI=",
          "dtype": "f4"
         },
         "z": {
          "bdata": "JPk2QcL2r0EPj1LCX9HywQhkbMK68wXDWlIyQFGAx0IKne9CD7PQQYkdT0FsWwdCFnnown7tE8OKL9RCBEwhQvSHeEIwGDVDzyZ6QhCq18ElVkFCCRT/wj/AskJy3pzBVigjwjwZhMK92DBB8z5nw0nTRkF+EqPC1kLhQuHcVUI=",
          "dtype": "f4"
         }
        }
       ],
       "layout": {
        "coloraxis": {
         "colorbar": {
          "title": {
           "text": "Line Index in Poem"
          }
         },
         "colorscale": [
          [
           0,
           "#0d0887"
          ],
          [
           0.1111111111111111,
           "#46039f"
          ],
          [
           0.2222222222222222,
           "#7201a8"
          ],
          [
           0.3333333333333333,
           "#9c179e"
          ],
          [
           0.4444444444444444,
           "#bd3786"
          ],
          [
           0.5555555555555556,
           "#d8576b"
          ],
          [
           0.6666666666666666,
           "#ed7953"
          ],
          [
           0.7777777777777778,
           "#fb9f3a"
          ],
          [
           0.8888888888888888,
           "#fdca26"
          ],
          [
           1,
           "#f0f921"
          ]
         ]
        },
        "font": {
         "family": "monospace"
        },
        "height": 700,
        "legend": {
         "tracegroupgap": 0
        },
        "scene": {
         "domain": {
          "x": [
           0,
           1
          ],
          "y": [
           0,
           1
          ]
         },
         "xaxis": {
          "title": {
           "text": "Dimension 1"
          }
         },
         "yaxis": {
          "title": {
           "text": "Dimension 2"
          }
         },
         "zaxis": {
          "title": {
           "text": "Dimension 3"
          }
         }
        },
        "template": {
         "data": {
          "bar": [
           {
            "error_x": {
             "color": "#2a3f5f"
            },
            "error_y": {
             "color": "#2a3f5f"
            },
            "marker": {
             "line": {
              "color": "#E5ECF6",
              "width": 0.5
             },
             "pattern": {
              "fillmode": "overlay",
              "size": 10,
              "solidity": 0.2
             }
            },
            "type": "bar"
           }
          ],
          "barpolar": [
           {
            "marker": {
             "line": {
              "color": "#E5ECF6",
              "width": 0.5
             },
             "pattern": {
              "fillmode": "overlay",
              "size": 10,
              "solidity": 0.2
             }
            },
            "type": "barpolar"
           }
          ],
          "carpet": [
           {
            "aaxis": {
             "endlinecolor": "#2a3f5f",
             "gridcolor": "white",
             "linecolor": "white",
             "minorgridcolor": "white",
             "startlinecolor": "#2a3f5f"
            },
            "baxis": {
             "endlinecolor": "#2a3f5f",
             "gridcolor": "white",
             "linecolor": "white",
             "minorgridcolor": "white",
             "startlinecolor": "#2a3f5f"
            },
            "type": "carpet"
           }
          ],
          "choropleth": [
           {
            "colorbar": {
             "outlinewidth": 0,
             "ticks": ""
            },
            "type": "choropleth"
           }
          ],
          "contour": [
           {
            "colorbar": {
             "outlinewidth": 0,
             "ticks": ""
            },
            "colorscale": [
             [
              0,
              "#0d0887"
             ],
             [
              0.1111111111111111,
              "#46039f"
             ],
             [
              0.2222222222222222,
              "#7201a8"
             ],
             [
              0.3333333333333333,
              "#9c179e"
             ],
             [
              0.4444444444444444,
              "#bd3786"
             ],
             [
              0.5555555555555556,
              "#d8576b"
             ],
             [
              0.6666666666666666,
              "#ed7953"
             ],
             [
              0.7777777777777778,
              "#fb9f3a"
             ],
             [
              0.8888888888888888,
              "#fdca26"
             ],
             [
              1,
              "#f0f921"
             ]
            ],
            "type": "contour"
           }
          ],
          "contourcarpet": [
           {
            "colorbar": {
             "outlinewidth": 0,
             "ticks": ""
            },
            "type": "contourcarpet"
           }
          ],
          "heatmap": [
           {
            "colorbar": {
             "outlinewidth": 0,
             "ticks": ""
            },
            "colorscale": [
             [
              0,
              "#0d0887"
             ],
             [
              0.1111111111111111,
              "#46039f"
             ],
             [
              0.2222222222222222,
              "#7201a8"
             ],
             [
              0.3333333333333333,
              "#9c179e"
             ],
             [
              0.4444444444444444,
              "#bd3786"
             ],
             [
              0.5555555555555556,
              "#d8576b"
             ],
             [
              0.6666666666666666,
              "#ed7953"
             ],
             [
              0.7777777777777778,
              "#fb9f3a"
             ],
             [
              0.8888888888888888,
              "#fdca26"
             ],
             [
              1,
              "#f0f921"
             ]
            ],
            "type": "heatmap"
           }
          ],
          "histogram": [
           {
            "marker": {
             "pattern": {
              "fillmode": "overlay",
              "size": 10,
              "solidity": 0.2
             }
            },
            "type": "histogram"
           }
          ],
          "histogram2d": [
           {
            "colorbar": {
             "outlinewidth": 0,
             "ticks": ""
            },
            "colorscale": [
             [
              0,
              "#0d0887"
             ],
             [
              0.1111111111111111,
              "#46039f"
             ],
             [
              0.2222222222222222,
              "#7201a8"
             ],
             [
              0.3333333333333333,
              "#9c179e"
             ],
             [
              0.4444444444444444,
              "#bd3786"
             ],
             [
              0.5555555555555556,
              "#d8576b"
             ],
             [
              0.6666666666666666,
              "#ed7953"
             ],
             [
              0.7777777777777778,
              "#fb9f3a"
             ],
             [
              0.8888888888888888,
              "#fdca26"
             ],
             [
              1,
              "#f0f921"
             ]
            ],
            "type": "histogram2d"
           }
          ],
          "histogram2dcontour": [
           {
            "colorbar": {
             "outlinewidth": 0,
             "ticks": ""
            },
            "colorscale": [
             [
              0,
              "#0d0887"
             ],
             [
              0.1111111111111111,
              "#46039f"
             ],
             [
              0.2222222222222222,
              "#7201a8"
             ],
             [
              0.3333333333333333,
              "#9c179e"
             ],
             [
              0.4444444444444444,
              "#bd3786"
             ],
             [
              0.5555555555555556,
              "#d8576b"
             ],
             [
              0.6666666666666666,
              "#ed7953"
             ],
             [
              0.7777777777777778,
              "#fb9f3a"
             ],
             [
              0.8888888888888888,
              "#fdca26"
             ],
             [
              1,
              "#f0f921"
             ]
            ],
            "type": "histogram2dcontour"
           }
          ],
          "mesh3d": [
           {
            "colorbar": {
             "outlinewidth": 0,
             "ticks": ""
            },
            "type": "mesh3d"
           }
          ],
          "parcoords": [
           {
            "line": {
             "colorbar": {
              "outlinewidth": 0,
              "ticks": ""
             }
            },
            "type": "parcoords"
           }
          ],
          "pie": [
           {
            "automargin": true,
            "type": "pie"
           }
          ],
          "scatter": [
           {
            "fillpattern": {
             "fillmode": "overlay",
             "size": 10,
             "solidity": 0.2
            },
            "type": "scatter"
           }
          ],
          "scatter3d": [
           {
            "line": {
             "colorbar": {
              "outlinewidth": 0,
              "ticks": ""
             }
            },
            "marker": {
             "colorbar": {
              "outlinewidth": 0,
              "ticks": ""
             }
            },
            "type": "scatter3d"
           }
          ],
          "scattercarpet": [
           {
            "marker": {
             "colorbar": {
              "outlinewidth": 0,
              "ticks": ""
             }
            },
            "type": "scattercarpet"
           }
          ],
          "scattergeo": [
           {
            "marker": {
             "colorbar": {
              "outlinewidth": 0,
              "ticks": ""
             }
            },
            "type": "scattergeo"
           }
          ],
          "scattergl": [
           {
            "marker": {
             "colorbar": {
              "outlinewidth": 0,
              "ticks": ""
             }
            },
            "type": "scattergl"
           }
          ],
          "scattermap": [
           {
            "marker": {
             "colorbar": {
              "outlinewidth": 0,
              "ticks": ""
             }
            },
            "type": "scattermap"
           }
          ],
          "scattermapbox": [
           {
            "marker": {
             "colorbar": {
              "outlinewidth": 0,
              "ticks": ""
             }
            },
            "type": "scattermapbox"
           }
          ],
          "scatterpolar": [
           {
            "marker": {
             "colorbar": {
              "outlinewidth": 0,
              "ticks": ""
             }
            },
            "type": "scatterpolar"
           }
          ],
          "scatterpolargl": [
           {
            "marker": {
             "colorbar": {
              "outlinewidth": 0,
              "ticks": ""
             }
            },
            "type": "scatterpolargl"
           }
          ],
          "scatterternary": [
           {
            "marker": {
             "colorbar": {
              "outlinewidth": 0,
              "ticks": ""
             }
            },
            "type": "scatterternary"
           }
          ],
          "surface": [
           {
            "colorbar": {
             "outlinewidth": 0,
             "ticks": ""
            },
            "colorscale": [
             [
              0,
              "#0d0887"
             ],
             [
              0.1111111111111111,
              "#46039f"
             ],
             [
              0.2222222222222222,
              "#7201a8"
             ],
             [
              0.3333333333333333,
              "#9c179e"
             ],
             [
              0.4444444444444444,
              "#bd3786"
             ],
             [
              0.5555555555555556,
              "#d8576b"
             ],
             [
              0.6666666666666666,
              "#ed7953"
             ],
             [
              0.7777777777777778,
              "#fb9f3a"
             ],
             [
              0.8888888888888888,
              "#fdca26"
             ],
             [
              1,
              "#f0f921"
             ]
            ],
            "type": "surface"
           }
          ],
          "table": [
           {
            "cells": {
             "fill": {
              "color": "#EBF0F8"
             },
             "line": {
              "color": "white"
             }
            },
            "header": {
             "fill": {
              "color": "#C8D4E3"
             },
             "line": {
              "color": "white"
             }
            },
            "type": "table"
           }
          ]
         },
         "layout": {
          "annotationdefaults": {
           "arrowcolor": "#2a3f5f",
           "arrowhead": 0,
           "arrowwidth": 1
          },
          "autotypenumbers": "strict",
          "coloraxis": {
           "colorbar": {
            "outlinewidth": 0,
            "ticks": ""
           }
          },
          "colorscale": {
           "diverging": [
            [
             0,
             "#8e0152"
            ],
            [
             0.1,
             "#c51b7d"
            ],
            [
             0.2,
             "#de77ae"
            ],
            [
             0.3,
             "#f1b6da"
            ],
            [
             0.4,
             "#fde0ef"
            ],
            [
             0.5,
             "#f7f7f7"
            ],
            [
             0.6,
             "#e6f5d0"
            ],
            [
             0.7,
             "#b8e186"
            ],
            [
             0.8,
             "#7fbc41"
            ],
            [
             0.9,
             "#4d9221"
            ],
            [
             1,
             "#276419"
            ]
           ],
           "sequential": [
            [
             0,
             "#0d0887"
            ],
            [
             0.1111111111111111,
             "#46039f"
            ],
            [
             0.2222222222222222,
             "#7201a8"
            ],
            [
             0.3333333333333333,
             "#9c179e"
            ],
            [
             0.4444444444444444,
             "#bd3786"
            ],
            [
             0.5555555555555556,
             "#d8576b"
            ],
            [
             0.6666666666666666,
             "#ed7953"
            ],
            [
             0.7777777777777778,
             "#fb9f3a"
            ],
            [
             0.8888888888888888,
             "#fdca26"
            ],
            [
             1,
             "#f0f921"
            ]
           ],
           "sequentialminus": [
            [
             0,
             "#0d0887"
            ],
            [
             0.1111111111111111,
             "#46039f"
            ],
            [
             0.2222222222222222,
             "#7201a8"
            ],
            [
             0.3333333333333333,
             "#9c179e"
            ],
            [
             0.4444444444444444,
             "#bd3786"
            ],
            [
             0.5555555555555556,
             "#d8576b"
            ],
            [
             0.6666666666666666,
             "#ed7953"
            ],
            [
             0.7777777777777778,
             "#fb9f3a"
            ],
            [
             0.8888888888888888,
             "#fdca26"
            ],
            [
             1,
             "#f0f921"
            ]
           ]
          },
          "colorway": [
           "#636efa",
           "#EF553B",
           "#00cc96",
           "#ab63fa",
           "#FFA15A",
           "#19d3f3",
           "#FF6692",
           "#B6E880",
           "#FF97FF",
           "#FECB52"
          ],
          "font": {
           "color": "#2a3f5f"
          },
          "geo": {
           "bgcolor": "white",
           "lakecolor": "white",
           "landcolor": "#E5ECF6",
           "showlakes": true,
           "showland": true,
           "subunitcolor": "white"
          },
          "hoverlabel": {
           "align": "left"
          },
          "hovermode": "closest",
          "mapbox": {
           "style": "light"
          },
          "paper_bgcolor": "white",
          "plot_bgcolor": "#E5ECF6",
          "polar": {
           "angularaxis": {
            "gridcolor": "white",
            "linecolor": "white",
            "ticks": ""
           },
           "bgcolor": "#E5ECF6",
           "radialaxis": {
            "gridcolor": "white",
            "linecolor": "white",
            "ticks": ""
           }
          },
          "scene": {
           "xaxis": {
            "backgroundcolor": "#E5ECF6",
            "gridcolor": "white",
            "gridwidth": 2,
            "linecolor": "white",
            "showbackground": true,
            "ticks": "",
            "zerolinecolor": "white"
           },
           "yaxis": {
            "backgroundcolor": "#E5ECF6",
            "gridcolor": "white",
            "gridwidth": 2,
            "linecolor": "white",
            "showbackground": true,
            "ticks": "",
            "zerolinecolor": "white"
           },
           "zaxis": {
            "backgroundcolor": "#E5ECF6",
            "gridcolor": "white",
            "gridwidth": 2,
            "linecolor": "white",
            "showbackground": true,
            "ticks": "",
            "zerolinecolor": "white"
           }
          },
          "shapedefaults": {
           "line": {
            "color": "#2a3f5f"
           }
          },
          "ternary": {
           "aaxis": {
            "gridcolor": "white",
            "linecolor": "white",
            "ticks": ""
           },
           "baxis": {
            "gridcolor": "white",
            "linecolor": "white",
            "ticks": ""
           },
           "bgcolor": "#E5ECF6",
           "caxis": {
            "gridcolor": "white",
            "linecolor": "white",
            "ticks": ""
           }
          },
          "title": {
           "x": 0.05
          },
          "xaxis": {
           "automargin": true,
           "gridcolor": "white",
           "linecolor": "white",
           "ticks": "",
           "title": {
            "standoff": 15
           },
           "zerolinecolor": "white",
           "zerolinewidth": 2
          },
          "yaxis": {
           "automargin": true,
           "gridcolor": "white",
           "linecolor": "white",
           "ticks": "",
           "title": {
            "standoff": 15
           },
           "zerolinecolor": "white",
           "zerolinewidth": 2
          }
         }
        },
        "title": {
         "text": "Interactive 3D Embedding Visualization"
        },
        "width": 900
       }
      }
     },
     "metadata": {},
     "output_type": "display_data"
    }
   ],
   "source": [
    "import plotly.express as px\n",
    "\n",
    "fig = px.scatter_3d(\n",
    "    x=embeddings_3d[:,0],\n",
    "    y=embeddings_3d[:,1],\n",
    "    z=embeddings_3d[:,2],\n",
    "    hover_name=text,\n",
    "    color=list(range(len(text))),\n",
    "    title=\"Interactive 3D Embedding Visualization\",\n",
    "    labels={'x':'Dimension 1', 'y':'Dimension 2', 'z':'Dimension 3'}\n",
    ")\n",
    "fig.update_traces(marker=dict(size=5, opacity=0.7))\n",
    "fig.update_layout(coloraxis_colorbar_title_text=\"Line Index in Poem\", font_family='monospace', width=900, height=700)\n",
    "fig.show()"
   ]
  },
  {
   "cell_type": "code",
   "execution_count": null,
   "id": "a73675c7",
   "metadata": {},
   "outputs": [],
   "source": []
  },
  {
   "cell_type": "markdown",
   "id": "53b3905d",
   "metadata": {},
   "source": [
    "## Difference between Model and AutoModel\n",
    "\n",
    "AutoModel is a high-level class in the transformers library that automatically selects the appropriate model architecture based on the model configuration. For example:\n",
    "- For BERT models, it loads `BertModel`.\n",
    "- For GPT models, it loads `GPT2Model`.\n",
    "- For Llama models, it loads `LlamaModel`.\n",
    "\n",
    "This is convenient when you don't know or don't want to specify the exact model class. In contrast, using specific model classes like `BertModel` requires you to know the architecture in advance, but it can be more explicit.\n",
    "\n",
    "For tasks like text generation, we use `AutoModelForCausalLM`, which loads the appropriate causal language model for generation.\n",
    "\n",
    "Below, we demonstrate loading the same BERT model using both approaches."
   ]
  },
  {
   "cell_type": "code",
   "execution_count": 15,
   "id": "2562c35f",
   "metadata": {},
   "outputs": [
    {
     "data": {
      "application/vnd.jupyter.widget-view+json": {
       "model_id": "21608143af5a4305ab579d439b0cdbda",
       "version_major": 2,
       "version_minor": 0
      },
      "text/plain": [
       "model.safetensors:   0%|          | 0.00/440M [00:00<?, ?B/s]"
      ]
     },
     "metadata": {},
     "output_type": "display_data"
    },
    {
     "name": "stdout",
     "output_type": "stream",
     "text": [
      "Type of model_specific: <class 'transformers.models.bert.modeling_bert.BertModel'>\n",
      "Type of model_auto: <class 'transformers.models.bert.modeling_bert.BertModel'>\n",
      "Are they the same? True\n"
     ]
    }
   ],
   "source": [
    "from transformers import BertModel, AutoModel\n",
    "\n",
    "# Load using specific model class\n",
    "model_specific = BertModel.from_pretrained('bert-base-uncased')\n",
    "\n",
    "# Load using AutoModel\n",
    "model_auto = AutoModel.from_pretrained('bert-base-uncased')\n",
    "\n",
    "print(\"Type of model_specific:\", type(model_specific))\n",
    "print(\"Type of model_auto:\", type(model_auto))\n",
    "print(\"Are they the same?\", type(model_specific) == type(model_auto))"
   ]
  },
  {
   "cell_type": "markdown",
   "id": "228cbf86",
   "metadata": {},
   "source": [
    "## Text Generation with Transformers\n",
    "\n",
    "This section showcases text generation using a public transformer model (GPT-2) from Hugging Face. We'll load the model and generate text based on a prompt from the poem."
   ]
  },
  {
   "cell_type": "code",
   "execution_count": null,
   "id": "96bb2bce",
   "metadata": {},
   "outputs": [
    {
     "data": {
      "application/vnd.jupyter.widget-view+json": {
       "model_id": "de807bc4798848088e550c6f2ba0613e",
       "version_major": 2,
       "version_minor": 0
      },
      "text/plain": [
       "tokenizer_config.json:   0%|          | 0.00/26.0 [00:00<?, ?B/s]"
      ]
     },
     "metadata": {},
     "output_type": "display_data"
    },
    {
     "data": {
      "application/vnd.jupyter.widget-view+json": {
       "model_id": "6b16820e38ce4dda99b91c075fdbc10f",
       "version_major": 2,
       "version_minor": 0
      },
      "text/plain": [
       "config.json:   0%|          | 0.00/665 [00:00<?, ?B/s]"
      ]
     },
     "metadata": {},
     "output_type": "display_data"
    },
    {
     "data": {
      "application/vnd.jupyter.widget-view+json": {
       "model_id": "dca520e8b848419eaffda48990a6860d",
       "version_major": 2,
       "version_minor": 0
      },
      "text/plain": [
       "vocab.json:   0%|          | 0.00/1.04M [00:00<?, ?B/s]"
      ]
     },
     "metadata": {},
     "output_type": "display_data"
    },
    {
     "data": {
      "application/vnd.jupyter.widget-view+json": {
       "model_id": "33d4c66db5e0492a8da09ecc6fc52da0",
       "version_major": 2,
       "version_minor": 0
      },
      "text/plain": [
       "merges.txt:   0%|          | 0.00/456k [00:00<?, ?B/s]"
      ]
     },
     "metadata": {},
     "output_type": "display_data"
    },
    {
     "data": {
      "application/vnd.jupyter.widget-view+json": {
       "model_id": "b3be873b2e6646baaf7d4895f2c38dc9",
       "version_major": 2,
       "version_minor": 0
      },
      "text/plain": [
       "tokenizer.json:   0%|          | 0.00/1.36M [00:00<?, ?B/s]"
      ]
     },
     "metadata": {},
     "output_type": "display_data"
    },
    {
     "data": {
      "application/vnd.jupyter.widget-view+json": {
       "model_id": "1924dc25faf348929df5e013e290a7de",
       "version_major": 2,
       "version_minor": 0
      },
      "text/plain": [
       "model.safetensors:   0%|          | 0.00/548M [00:00<?, ?B/s]"
      ]
     },
     "metadata": {},
     "output_type": "display_data"
    }
   ],
   "source": [
    "from transformers import AutoModelForCausalLM, AutoTokenizer\n",
    "\n",
    "# Load a public model (GPT-2)\n",
    "model_name = 'gpt2'\n",
    "tokenizer_llama = AutoTokenizer.from_pretrained(model_name)\n",
    "model_llama = AutoModelForCausalLM.from_pretrained(model_name)\n",
    "\n",
    "# Set pad token if not set\n",
    "if tokenizer_llama.pad_token is None:\n",
    "    tokenizer_llama.pad_token = tokenizer_llama.eos_token\n",
    "\n",
    "# Prompt from the poem\n",
    "prompt = \"I and Pangur Bán, my cat,\"\n",
    "inputs = tokenizer_llama(prompt, return_tensors='pt')\n",
    "\n",
    "# Generate text\n",
    "outputs = model_llama.generate(**inputs, max_length=50, num_return_sequences=1, temperature=0.7, do_sample=True)\n",
    "\n",
    "# Decode and display\n",
    "generated_text = tokenizer_llama.decode(outputs[0], skip_special_tokens=True)\n",
    "print(\"Prompt:\", prompt)\n",
    "print(\"Generated text:\", generated_text)"
   ]
  }
 ],
 "metadata": {
  "kernelspec": {
   "display_name": "torch_env",
   "language": "python",
   "name": "python3"
  },
  "language_info": {
   "codemirror_mode": {
    "name": "ipython",
    "version": 3
   },
   "file_extension": ".py",
   "mimetype": "text/x-python",
   "name": "python",
   "nbconvert_exporter": "python",
   "pygments_lexer": "ipython3",
   "version": "3.12.2"
  }
 },
 "nbformat": 4,
 "nbformat_minor": 5
}
