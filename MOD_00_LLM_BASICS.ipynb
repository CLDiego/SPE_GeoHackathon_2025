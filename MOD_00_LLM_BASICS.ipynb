{
 "cells": [
  {
   "cell_type": "markdown",
   "id": "88188cbb",
   "metadata": {},
   "source": [
    "[![Open In Colab](https://colab.research.google.com/assets/colab-badge.svg)](https://colab.research.google.com/github/CLDiego/SPE_GeoHackathon_2025/blob/main/MOD_00_SETUP.ipynb)\n",
    "\n",
    "***\n",
    "- <img src=\"https://github.com/CLDiego/uom_fse_dl_workshop/raw/main/figs/icons/write.svg\" width=\"20\"/> Follow along by running each cell in order\n",
    "- <img src=\"https://github.com/CLDiego/uom_fse_dl_workshop/raw/main/figs/icons/code.svg\" width=\"20\"/> Make sure to run the environment setup cells first\n",
    "- <img src=\"https://github.com/CLDiego/uom_fse_dl_workshop/raw/main/figs/icons/reminder.svg\" width=\"20\"/> Wait for each installation to complete before proceeding\n",
    "- <img src=\"https://github.com/CLDiego/uom_fse_dl_workshop/raw/main/figs/icons/success.svg\" width=\"20\" /> Verify installations by running the test cells\n",
    "- <img src=\"https://github.com/CLDiego/uom_fse_dl_workshop/raw/main/figs/icons/list.svg\" width=\"20\" /> Don't worry if installations take a while - this is normal!\n"
   ]
  },
  {
   "cell_type": "markdown",
   "id": "98a59544",
   "metadata": {},
   "source": [
    "# Module 00: Large Language Models (LLMs) Basics with HuggingFace\n",
    "\n",
    "LLMs are a type of artificial intelligence model designed to understand and generate human-like text based on the input they receive. They are trained on vast amounts of text data and can perform a variety of language tasks, such as translation, summarization, and question-answering.\n",
    "\n",
    "The revolutionary aspect of LLMs lies in their ability to generate coherent and contextually relevant text, making them valuable tools for a wide range of applications, from chatbots to content creation. LLMs massive breakthrough came from the paper \"Attention is all you need\" by Vaswani et al. in 2017, which introduced the Transformer architecture. This architecture relies on a mechanism called \"self-attention\" that allows the model to weigh the importance of different words in a sentence, regardless of their position. This was a significant departure from previous models that processed text sequentially, enabling much more efficient training on large datasets.\n",
    "\n",
    "The transformer architecture is shown below:\n",
    "\n",
    "![Transformer Architecture](https://github.com/CLDiego/uom_fse_dl_workshop/raw/main/figs/transformer.png)\n",
    "\n",
    "A transformer is composed of:\n",
    "- An encoder that processes the input text and generates a contextual representation.\n",
    "- A decoder that takes the encoder's output and generates the final text output.\n",
    "- Multi-head self-attention mechanisms that allow the model to focus on different parts of the input text simultaneously.\n",
    "- Feed-forward neural networks that process the information from the attention layers.\n",
    "- Layer normalization and residual connections that help stabilize and improve the training process.\n",
    "\n",
    "## Passing Inputs Through the Transformer\n",
    "While the input text is processed by the encoder, it is transformed into a series of continuous representations, or embeddings, that capture the meaning and context of the words. These embeddings are then passed to the decoder, which generates the output text one token at a time. The self-attention mechanism allows the model to consider the entire input sequence when producing each token, enabling it to generate more coherent and contextually relevant text.\n",
    "\n",
    "However, before the input text can be processed by the transformer, it must be tokenized and converted into a format that the model can understand. This involves breaking the text into smaller units, or tokens, and mapping these tokens to their corresponding embeddings in a high-dimensional space. The transformer then processes these embeddings through its layers, applying self-attention and feed-forward networks to generate the final output.\n",
    "\n",
    "## Tokenizers"
   ]
  },
  {
   "cell_type": "code",
   "execution_count": 9,
   "id": "e8cd9a37",
   "metadata": {},
   "outputs": [
    {
     "data": {
      "text/html": [
       "<span style=\"background-color:#8A2BE2\">pang</span> <span style=\"background-color:#3357FF\">##ur</span> <span style=\"background-color:#FF1493\">ban</span> <span style=\"background-color:#3357FF\">and</span> <span style=\"background-color:#FFD700\">i</span> <span style=\"background-color:#FF1493\">at</span> <span style=\"background-color:#FF5733\">work</span> <span style=\"background-color:#228B22\">,</span> <span style=\"background-color:#8B0000\">adept</span> <span style=\"background-color:#FF1493\">##s</span> <span style=\"background-color:#228B22\">,</span> <span style=\"background-color:#00FFFF\">equals</span> <span style=\"background-color:#228B22\">,</span> <span style=\"background-color:#222222\">cat</span> <span style=\"background-color:#3357FF\">and</span> <span style=\"background-color:#3357FF\">clerk</span> <span style=\"background-color:#2F4F4F\">:</span> <span style=\"background-color:#0000FF\">his</span> <span style=\"background-color:#8B0000\">whole</span> <span style=\"background-color:#00CED1\">instinct</span> <span style=\"background-color:#222222\">is</span> <span style=\"background-color:#0000FF\">to</span> <span style=\"background-color:#0000FF\">hunt</span> <span style=\"background-color:#228B22\">,</span> <span style=\"background-color:#FF00FF\">mine</span> <span style=\"background-color:#0000FF\">to</span> <span style=\"background-color:#222222\">free</span> <span style=\"background-color:#00FF00\">the</span> <span style=\"background-color:#00FFFF\">meaning</span> <span style=\"background-color:#228B22\">pen</span> <span style=\"background-color:#FF5733\">##t</span> <span style=\"background-color:#00FFFF\">.</span> <span style=\"background-color:#FF5733\">more</span> <span style=\"background-color:#4B0082\">than</span> <span style=\"background-color:#FFFF00\">loud</span> <span style=\"background-color:#FF8C00\">acclaim</span> <span style=\"background-color:#228B22\">,</span> <span style=\"background-color:#FFD700\">i</span> <span style=\"background-color:#8A2BE2\">love</span> <span style=\"background-color:#0000FF\">books</span> <span style=\"background-color:#228B22\">,</span> <span style=\"background-color:#FFFF00\">silence</span> <span style=\"background-color:#228B22\">,</span> <span style=\"background-color:#3357FF\">thought</span> <span style=\"background-color:#228B22\">,</span> <span style=\"background-color:#000000\">my</span> <span style=\"background-color:#FF0000\">al</span> <span style=\"background-color:#FF8C00\">##co</span> <span style=\"background-color:#4B0082\">##ve</span> <span style=\"background-color:#00FFFF\">.</span> <span style=\"background-color:#00CED1\">happy</span> <span style=\"background-color:#FF5733\">for</span> <span style=\"background-color:#222222\">me</span> <span style=\"background-color:#228B22\">,</span> <span style=\"background-color:#8A2BE2\">pang</span> <span style=\"background-color:#3357FF\">##ur</span> <span style=\"background-color:#FF1493\">ban</span> <span style=\"background-color:#00FFFF\">child</span> <span style=\"background-color:#FF00FF\">-</span> <span style=\"background-color:#8B0000\">plays</span> <span style=\"background-color:#FFFF00\">round</span> <span style=\"background-color:#FF0000\">some</span> <span style=\"background-color:#33FF57\">mouse</span> <span style=\"background-color:#FF1493\">’</span> <span style=\"background-color:#FF5733\">s</span> <span style=\"background-color:#FF5733\">den</span> <span style=\"background-color:#00FFFF\">.</span> <span style=\"background-color:#33FF57\">truth</span> <span style=\"background-color:#0000FF\">to</span> <span style=\"background-color:#FFD700\">tell</span> <span style=\"background-color:#228B22\">,</span> <span style=\"background-color:#33FF57\">just</span> <span style=\"background-color:#FF5733\">being</span> <span style=\"background-color:#8A2BE2\">here</span> <span style=\"background-color:#228B22\">,</span> <span style=\"background-color:#222222\">housed</span> <span style=\"background-color:#00FF00\">alone</span> <span style=\"background-color:#228B22\">,</span> <span style=\"background-color:#222222\">housed</span> <span style=\"background-color:#00CED1\">together</span> <span style=\"background-color:#228B22\">,</span> <span style=\"background-color:#FF8C00\">adds</span> <span style=\"background-color:#33FF57\">up</span> <span style=\"background-color:#0000FF\">to</span> <span style=\"background-color:#FF1493\">its</span> <span style=\"background-color:#FF1493\">own</span> <span style=\"background-color:#FF8C00\">reward</span> <span style=\"background-color:#2F4F4F\">:</span> <span style=\"background-color:#33FF57\">concentration</span> <span style=\"background-color:#228B22\">,</span> <span style=\"background-color:#FF8C00\">stealth</span> <span style=\"background-color:#FF8C00\">##y</span> <span style=\"background-color:#2F4F4F\">art</span> <span style=\"background-color:#00FFFF\">.</span> <span style=\"background-color:#FFFF00\">next</span> <span style=\"background-color:#FFFF00\">thing</span> <span style=\"background-color:#228B22\">an</span> <span style=\"background-color:#FFD700\">un</span> <span style=\"background-color:#FF0000\">##war</span> <span style=\"background-color:#FF8C00\">##y</span> <span style=\"background-color:#33FF57\">mouse</span> <span style=\"background-color:#FF0000\">bare</span> <span style=\"background-color:#FF1493\">##s</span> <span style=\"background-color:#0000FF\">his</span> <span style=\"background-color:#FF1493\">flank</span> <span style=\"background-color:#2F4F4F\">:</span> <span style=\"background-color:#8A2BE2\">pang</span> <span style=\"background-color:#3357FF\">##ur</span> <span style=\"background-color:#FF00FF\">po</span> <span style=\"background-color:#FF5733\">##unce</span> <span style=\"background-color:#FF1493\">##s</span> <span style=\"background-color:#00FFFF\">.</span> <span style=\"background-color:#FFFF00\">next</span> <span style=\"background-color:#FFFF00\">thing</span> <span style=\"background-color:#3357FF\">lines</span> <span style=\"background-color:#FFFF00\">that</span> <span style=\"background-color:#FF00FF\">held</span> <span style=\"background-color:#3357FF\">and</span> <span style=\"background-color:#FF00FF\">held</span> <span style=\"background-color:#00FFFF\">meaning</span> <span style=\"background-color:#FF8C00\">back</span> <span style=\"background-color:#222222\">begin</span> <span style=\"background-color:#0000FF\">to</span> <span style=\"background-color:#8B0000\">yield</span> <span style=\"background-color:#00FFFF\">.</span> <span style=\"background-color:#FFD700\">all</span> <span style=\"background-color:#00FF00\">the</span> <span style=\"background-color:#000000\">while</span> <span style=\"background-color:#228B22\">,</span> <span style=\"background-color:#0000FF\">his</span> <span style=\"background-color:#FFFF00\">round</span> <span style=\"background-color:#222222\">bright</span> <span style=\"background-color:#8A2BE2\">eye</span> <span style=\"background-color:#222222\">fix</span> <span style=\"background-color:#00FFFF\">##es</span> <span style=\"background-color:#FFD700\">on</span> <span style=\"background-color:#00FF00\">the</span> <span style=\"background-color:#FFFF00\">wall</span> <span style=\"background-color:#228B22\">,</span> <span style=\"background-color:#000000\">while</span> <span style=\"background-color:#FFD700\">i</span> <span style=\"background-color:#33FF57\">focus</span> <span style=\"background-color:#000000\">my</span> <span style=\"background-color:#FF00FF\">less</span> <span style=\"background-color:#0000FF\">piercing</span> <span style=\"background-color:#4B0082\">gaze</span> <span style=\"background-color:#FFD700\">on</span> <span style=\"background-color:#00FF00\">the</span> <span style=\"background-color:#FFFF00\">challenge</span> <span style=\"background-color:#FF8C00\">of</span> <span style=\"background-color:#00FF00\">the</span> <span style=\"background-color:#000000\">page</span> <span style=\"background-color:#00FFFF\">.</span> <span style=\"background-color:#33FF57\">with</span> <span style=\"background-color:#0000FF\">his</span> <span style=\"background-color:#FFD700\">un</span> <span style=\"background-color:#FF8C00\">##sh</span> <span style=\"background-color:#33FF57\">##ea</span> <span style=\"background-color:#33FF57\">##thed</span> <span style=\"background-color:#228B22\">,</span> <span style=\"background-color:#FF00FF\">perfect</span> <span style=\"background-color:#FF0000\">nails</span> <span style=\"background-color:#8A2BE2\">pang</span> <span style=\"background-color:#3357FF\">##ur</span> <span style=\"background-color:#FFD700\">springs</span> <span style=\"background-color:#228B22\">,</span> <span style=\"background-color:#222222\">ex</span> <span style=\"background-color:#8A2BE2\">##ult</span> <span style=\"background-color:#FF1493\">##s</span> <span style=\"background-color:#3357FF\">and</span> <span style=\"background-color:#00FFFF\">kills</span> <span style=\"background-color:#00FFFF\">.</span> <span style=\"background-color:#33FF57\">when</span> <span style=\"background-color:#00FF00\">the</span> <span style=\"background-color:#FF00FF\">longed</span> <span style=\"background-color:#FF00FF\">-</span> <span style=\"background-color:#FF5733\">for</span> <span style=\"background-color:#228B22\">,</span> <span style=\"background-color:#FF1493\">difficult</span> <span style=\"background-color:#FF00FF\">answers</span> <span style=\"background-color:#228B22\">come</span> <span style=\"background-color:#228B22\">,</span> <span style=\"background-color:#FFD700\">i</span> <span style=\"background-color:#000000\">too</span> <span style=\"background-color:#222222\">ex</span> <span style=\"background-color:#8A2BE2\">##ult</span> <span style=\"background-color:#00FFFF\">.</span> <span style=\"background-color:#00FFFF\">so</span> <span style=\"background-color:#FF00FF\">it</span> <span style=\"background-color:#FF5733\">goes</span> <span style=\"background-color:#00FFFF\">.</span> <span style=\"background-color:#0000FF\">to</span> <span style=\"background-color:#228B22\">each</span> <span style=\"background-color:#0000FF\">his</span> <span style=\"background-color:#FF1493\">own</span> <span style=\"background-color:#00FFFF\">.</span> <span style=\"background-color:#33FF57\">no</span> <span style=\"background-color:#3357FF\">v</span> <span style=\"background-color:#00FF00\">##ying</span> <span style=\"background-color:#00FFFF\">.</span> <span style=\"background-color:#33FF57\">no</span> <span style=\"background-color:#FF0000\">ve</span> <span style=\"background-color:#00FFFF\">##xa</span> <span style=\"background-color:#00FF00\">##tion</span> <span style=\"background-color:#00FFFF\">.</span> <span style=\"background-color:#FF8C00\">taking</span> <span style=\"background-color:#FFFF00\">pleasure</span> <span style=\"background-color:#228B22\">,</span> <span style=\"background-color:#FF8C00\">taking</span> <span style=\"background-color:#33FF57\">pains</span> <span style=\"background-color:#228B22\">,</span> <span style=\"background-color:#00FF00\">kind</span> <span style=\"background-color:#00FFFF\">##red</span> <span style=\"background-color:#00FFFF\">spirits</span> <span style=\"background-color:#228B22\">,</span> <span style=\"background-color:#FF1493\">veterans</span> <span style=\"background-color:#00FFFF\">.</span> <span style=\"background-color:#3357FF\">day</span> <span style=\"background-color:#3357FF\">and</span> <span style=\"background-color:#8B0000\">night</span> <span style=\"background-color:#228B22\">,</span> <span style=\"background-color:#33FF57\">soft</span> <span style=\"background-color:#8A2BE2\">pu</span> <span style=\"background-color:#FFD700\">##rr</span> <span style=\"background-color:#228B22\">,</span> <span style=\"background-color:#33FF57\">soft</span> <span style=\"background-color:#222222\">pad</span> <span style=\"background-color:#228B22\">,</span> <span style=\"background-color:#8A2BE2\">pang</span> <span style=\"background-color:#3357FF\">##ur</span> <span style=\"background-color:#FF1493\">ban</span> <span style=\"background-color:#8B0000\">has</span> <span style=\"background-color:#FFFF00\">learned</span> <span style=\"background-color:#0000FF\">his</span> <span style=\"background-color:#4B0082\">trade</span> <span style=\"background-color:#00FFFF\">.</span> <span style=\"background-color:#3357FF\">day</span> <span style=\"background-color:#3357FF\">and</span> <span style=\"background-color:#8B0000\">night</span> <span style=\"background-color:#228B22\">,</span> <span style=\"background-color:#000000\">my</span> <span style=\"background-color:#FF1493\">own</span> <span style=\"background-color:#FFD700\">hard</span> <span style=\"background-color:#FF5733\">work</span> <span style=\"background-color:#00FF00\">solve</span> <span style=\"background-color:#FF1493\">##s</span> <span style=\"background-color:#00FF00\">the</span> <span style=\"background-color:#FF8C00\">cr</span> <span style=\"background-color:#00FFFF\">##ux</span> <span style=\"background-color:#00FFFF\">##es</span> <span style=\"background-color:#228B22\">,</span> <span style=\"background-color:#2F4F4F\">makes</span> <span style=\"background-color:#0000FF\">a</span> <span style=\"background-color:#0000FF\">mark</span> <span style=\"background-color:#00FFFF\">.</span> "
      ],
      "text/plain": [
       "<IPython.core.display.HTML object>"
      ]
     },
     "execution_count": 9,
     "metadata": {},
     "output_type": "execute_result"
    }
   ],
   "source": [
    "from transformers import BertTokenizer\n",
    "from IPython.display import HTML\n",
    "tokenizer = BertTokenizer.from_pretrained('bert-base-uncased')\n",
    "def bert_tokenize_and_color(text, tokenizer ):\n",
    "    text = ' '.join(text)\n",
    "    tokens = tokenizer.tokenize(text)\n",
    "    token_ids = tokenizer.convert_tokens_to_ids(tokens)\n",
    "\n",
    "    colored_text = \"\"\n",
    "    colors = ['#FF5733', '#33FF57', '#3357FF', '#FFD700', '#00CED1', '#FF00FF', '#222222',\n",
    "              '#FF0000', '#00FF00', '#0000FF', '#FFFF00', '#00FFFF', '#FF1493', '#8A2BE2',\n",
    "              '#FF8C00', '#228B22', '#8B0000', '#2F4F4F', '#4B0082', '#000000']\n",
    "\n",
    "    for token in tokens:\n",
    "        color = colors[hash(token) % len(colors)]\n",
    "        token_html = f'<span style=\"background-color:{color}\">{token}</span>'\n",
    "        colored_text += token_html + ' '\n",
    "\n",
    "    return HTML(colored_text)\n",
    "\n",
    "# Example usage\n",
    "text = [\n",
    "    \"Pangur Bán and I at work,\",\n",
    "    \"Adepts, equals, cat and clerk:\",\n",
    "    \"His whole instinct is to hunt,\",\n",
    "    \"Mine to free the meaning pent.\",\n",
    "    \"More than loud acclaim, I love\",\n",
    "    \"Books, silence, thought, my alcove.\",\n",
    "    \"Happy for me, Pangur Bán\",\n",
    "    \"Child-plays round some mouse’s den.\",\n",
    "    \"Truth to tell, just being here,\",\n",
    "    \"Housed alone, housed together,\",\n",
    "    \"Adds up to its own reward:\",\n",
    "    \"Concentration, stealthy art.\",\n",
    "    \"Next thing an unwary mouse\",\n",
    "    \"Bares his flank: Pangur pounces.\",\n",
    "    \"Next thing lines that held and held\",\n",
    "    \"Meaning back begin to yield.\",\n",
    "    \"All the while, his round bright eye\",\n",
    "    \"Fixes on the wall, while I\",\n",
    "    \"Focus my less piercing gaze\",\n",
    "    \"On the challenge of the page.\",\n",
    "    \"With his unsheathed, perfect nails\",\n",
    "    \"Pangur springs, exults and kills.\",\n",
    "    \"When the longed-for, difficult\",\n",
    "    \"Answers come, I too exult.\",\n",
    "    \"So it goes. To each his own.\",\n",
    "    \"No vying. No vexation.\",\n",
    "    \"Taking pleasure, taking pains,\",\n",
    "    \"Kindred spirits, veterans.\",\n",
    "    \"Day and night, soft purr, soft pad,\",\n",
    "    \"Pangur Bán has learned his trade.\",\n",
    "    \"Day and night, my own hard work\",\n",
    "    \"Solves the cruxes, makes a mark.\"\n",
    "]\n",
    "bert_tokenize_and_color(text, tokenizer)\n"
   ]
  },
  {
   "cell_type": "code",
   "execution_count": 10,
   "id": "fa97730a",
   "metadata": {},
   "outputs": [],
   "source": [
    "from transformers import AutoTokenizer, AutoModel\n",
    "import torch\n",
    "from sklearn.manifold import TSNE\n",
    "import matplotlib.pyplot as plt\n",
    "\n",
    "# Load model + tokenizer\n",
    "tokenizer = AutoTokenizer.from_pretrained(\"sentence-transformers/all-MiniLM-L6-v2\")\n",
    "model = AutoModel.from_pretrained(\"sentence-transformers/all-MiniLM-L6-v2\")\n",
    "\n",
    "# Encode sentences\n",
    "inputs = tokenizer(text, padding=True, truncation=True, return_tensors=\"pt\")\n",
    "with torch.no_grad():\n",
    "    embeddings = model(**inputs).last_hidden_state[:,0,:]  # CLS token\n",
    "\n",
    "# Reduce dimensions to 3D with t-SNE\n",
    "tsne = TSNE(n_components=3, perplexity=5, random_state=42)\n",
    "embeddings_3d = tsne.fit_transform(embeddings.numpy())"
   ]
  },
  {
   "cell_type": "code",
   "execution_count": 14,
   "id": "7ec07038",
   "metadata": {},
   "outputs": [
    {
     "data": {
      "application/vnd.plotly.v1+json": {
       "config": {
        "plotlyServerURL": "https://plot.ly"
       },
       "data": [
        {
         "hovertemplate": "<b>%{hovertext}</b><br><br>Dimension 1=%{x}<br>Dimension 2=%{y}<br>Dimension 3=%{z}<br>color=%{marker.color}<extra></extra>",
         "hovertext": [
          "Pangur Bán and I at work,",
          "Adepts, equals, cat and clerk:",
          "His whole instinct is to hunt,",
          "Mine to free the meaning pent.",
          "More than loud acclaim, I love",
          "Books, silence, thought, my alcove.",
          "Happy for me, Pangur Bán",
          "Child-plays round some mouse’s den.",
          "Truth to tell, just being here,",
          "Housed alone, housed together,",
          "Adds up to its own reward:",
          "Concentration, stealthy art.",
          "Next thing an unwary mouse",
          "Bares his flank: Pangur pounces.",
          "Next thing lines that held and held",
          "Meaning back begin to yield.",
          "All the while, his round bright eye",
          "Fixes on the wall, while I",
          "Focus my less piercing gaze",
          "On the challenge of the page.",
          "With his unsheathed, perfect nails",
          "Pangur springs, exults and kills.",
          "When the longed-for, difficult",
          "Answers come, I too exult.",
          "So it goes. To each his own.",
          "No vying. No vexation.",
          "Taking pleasure, taking pains,",
          "Kindred spirits, veterans.",
          "Day and night, soft purr, soft pad,",
          "Pangur Bán has learned his trade.",
          "Day and night, my own hard work",
          "Solves the cruxes, makes a mark."
         ],
         "legendgroup": "",
         "marker": {
          "color": {
           "bdata": "AAECAwQFBgcICQoLDA0ODxAREhMUFRYXGBkaGxwdHh8=",
           "dtype": "i1"
          },
          "coloraxis": "coloraxis",
          "opacity": 0.7,
          "size": 5,
          "symbol": "circle"
         },
         "mode": "markers",
         "name": "",
         "scene": "scene",
         "showlegend": false,
         "type": "scatter3d",
         "x": {
          "bdata": "YB/swnqu8EL/eslCodGAQEk+m8K3mt3C6V8CQwMxT8FCX91BXmqBwoH9XcLYj2XCkAyewUWwDMK7gTlCd6SXwgGkaUJ6+M5BZU5pwU8EZMF7JStCIXShwantC8IeAbc/s4NHQoe948GLhDZC04ixQmRfjEKLLwfDqZCiQfodA0M=",
          "dtype": "f4"
         },
         "y": {
          "bdata": "aDWMQleDtkLXmBJCT8EMw/dcB8JJ7s7BtSgTwmnkUkI6wHa/cHWqwk0FB0LVk0BBmACowvdc4cI39d1Ck0tYQul52UFCop/BsLEAQ4OrwUAWP19CTTcnwuxv5cGlcl5CZD4aQi2Fz0LDApPCjr5zwhrSpsK6FaFCi/R2wjix4UE=",
          "dtype": "f4"
         },
         "z": {
          "bdata": "MJiSQhHagsLnbQQ+vO7DQbUjJ8IxxtFB6hRPwjw528IqWkJAeVnLQdvWIEHmDLVC2cXTQgx5p8L22mRA5dQmwm/AnMImVZxCgZ5owv7ZDkI2zbBC6t/6wuZ8TEAfoxdBLnLSQTfuFUKxt4LCYcfXQhZjOUEz8eJBVeCsP2ujnEI=",
          "dtype": "f4"
         }
        }
       ],
       "layout": {
        "coloraxis": {
         "colorbar": {
          "title": {
           "text": "Line Index in Poem"
          }
         },
         "colorscale": [
          [
           0,
           "#0d0887"
          ],
          [
           0.1111111111111111,
           "#46039f"
          ],
          [
           0.2222222222222222,
           "#7201a8"
          ],
          [
           0.3333333333333333,
           "#9c179e"
          ],
          [
           0.4444444444444444,
           "#bd3786"
          ],
          [
           0.5555555555555556,
           "#d8576b"
          ],
          [
           0.6666666666666666,
           "#ed7953"
          ],
          [
           0.7777777777777778,
           "#fb9f3a"
          ],
          [
           0.8888888888888888,
           "#fdca26"
          ],
          [
           1,
           "#f0f921"
          ]
         ]
        },
        "font": {
         "family": "monospace"
        },
        "height": 700,
        "legend": {
         "tracegroupgap": 0
        },
        "scene": {
         "domain": {
          "x": [
           0,
           1
          ],
          "y": [
           0,
           1
          ]
         },
         "xaxis": {
          "title": {
           "text": "Dimension 1"
          }
         },
         "yaxis": {
          "title": {
           "text": "Dimension 2"
          }
         },
         "zaxis": {
          "title": {
           "text": "Dimension 3"
          }
         }
        },
        "template": {
         "data": {
          "bar": [
           {
            "error_x": {
             "color": "#2a3f5f"
            },
            "error_y": {
             "color": "#2a3f5f"
            },
            "marker": {
             "line": {
              "color": "#E5ECF6",
              "width": 0.5
             },
             "pattern": {
              "fillmode": "overlay",
              "size": 10,
              "solidity": 0.2
             }
            },
            "type": "bar"
           }
          ],
          "barpolar": [
           {
            "marker": {
             "line": {
              "color": "#E5ECF6",
              "width": 0.5
             },
             "pattern": {
              "fillmode": "overlay",
              "size": 10,
              "solidity": 0.2
             }
            },
            "type": "barpolar"
           }
          ],
          "carpet": [
           {
            "aaxis": {
             "endlinecolor": "#2a3f5f",
             "gridcolor": "white",
             "linecolor": "white",
             "minorgridcolor": "white",
             "startlinecolor": "#2a3f5f"
            },
            "baxis": {
             "endlinecolor": "#2a3f5f",
             "gridcolor": "white",
             "linecolor": "white",
             "minorgridcolor": "white",
             "startlinecolor": "#2a3f5f"
            },
            "type": "carpet"
           }
          ],
          "choropleth": [
           {
            "colorbar": {
             "outlinewidth": 0,
             "ticks": ""
            },
            "type": "choropleth"
           }
          ],
          "contour": [
           {
            "colorbar": {
             "outlinewidth": 0,
             "ticks": ""
            },
            "colorscale": [
             [
              0,
              "#0d0887"
             ],
             [
              0.1111111111111111,
              "#46039f"
             ],
             [
              0.2222222222222222,
              "#7201a8"
             ],
             [
              0.3333333333333333,
              "#9c179e"
             ],
             [
              0.4444444444444444,
              "#bd3786"
             ],
             [
              0.5555555555555556,
              "#d8576b"
             ],
             [
              0.6666666666666666,
              "#ed7953"
             ],
             [
              0.7777777777777778,
              "#fb9f3a"
             ],
             [
              0.8888888888888888,
              "#fdca26"
             ],
             [
              1,
              "#f0f921"
             ]
            ],
            "type": "contour"
           }
          ],
          "contourcarpet": [
           {
            "colorbar": {
             "outlinewidth": 0,
             "ticks": ""
            },
            "type": "contourcarpet"
           }
          ],
          "heatmap": [
           {
            "colorbar": {
             "outlinewidth": 0,
             "ticks": ""
            },
            "colorscale": [
             [
              0,
              "#0d0887"
             ],
             [
              0.1111111111111111,
              "#46039f"
             ],
             [
              0.2222222222222222,
              "#7201a8"
             ],
             [
              0.3333333333333333,
              "#9c179e"
             ],
             [
              0.4444444444444444,
              "#bd3786"
             ],
             [
              0.5555555555555556,
              "#d8576b"
             ],
             [
              0.6666666666666666,
              "#ed7953"
             ],
             [
              0.7777777777777778,
              "#fb9f3a"
             ],
             [
              0.8888888888888888,
              "#fdca26"
             ],
             [
              1,
              "#f0f921"
             ]
            ],
            "type": "heatmap"
           }
          ],
          "histogram": [
           {
            "marker": {
             "pattern": {
              "fillmode": "overlay",
              "size": 10,
              "solidity": 0.2
             }
            },
            "type": "histogram"
           }
          ],
          "histogram2d": [
           {
            "colorbar": {
             "outlinewidth": 0,
             "ticks": ""
            },
            "colorscale": [
             [
              0,
              "#0d0887"
             ],
             [
              0.1111111111111111,
              "#46039f"
             ],
             [
              0.2222222222222222,
              "#7201a8"
             ],
             [
              0.3333333333333333,
              "#9c179e"
             ],
             [
              0.4444444444444444,
              "#bd3786"
             ],
             [
              0.5555555555555556,
              "#d8576b"
             ],
             [
              0.6666666666666666,
              "#ed7953"
             ],
             [
              0.7777777777777778,
              "#fb9f3a"
             ],
             [
              0.8888888888888888,
              "#fdca26"
             ],
             [
              1,
              "#f0f921"
             ]
            ],
            "type": "histogram2d"
           }
          ],
          "histogram2dcontour": [
           {
            "colorbar": {
             "outlinewidth": 0,
             "ticks": ""
            },
            "colorscale": [
             [
              0,
              "#0d0887"
             ],
             [
              0.1111111111111111,
              "#46039f"
             ],
             [
              0.2222222222222222,
              "#7201a8"
             ],
             [
              0.3333333333333333,
              "#9c179e"
             ],
             [
              0.4444444444444444,
              "#bd3786"
             ],
             [
              0.5555555555555556,
              "#d8576b"
             ],
             [
              0.6666666666666666,
              "#ed7953"
             ],
             [
              0.7777777777777778,
              "#fb9f3a"
             ],
             [
              0.8888888888888888,
              "#fdca26"
             ],
             [
              1,
              "#f0f921"
             ]
            ],
            "type": "histogram2dcontour"
           }
          ],
          "mesh3d": [
           {
            "colorbar": {
             "outlinewidth": 0,
             "ticks": ""
            },
            "type": "mesh3d"
           }
          ],
          "parcoords": [
           {
            "line": {
             "colorbar": {
              "outlinewidth": 0,
              "ticks": ""
             }
            },
            "type": "parcoords"
           }
          ],
          "pie": [
           {
            "automargin": true,
            "type": "pie"
           }
          ],
          "scatter": [
           {
            "fillpattern": {
             "fillmode": "overlay",
             "size": 10,
             "solidity": 0.2
            },
            "type": "scatter"
           }
          ],
          "scatter3d": [
           {
            "line": {
             "colorbar": {
              "outlinewidth": 0,
              "ticks": ""
             }
            },
            "marker": {
             "colorbar": {
              "outlinewidth": 0,
              "ticks": ""
             }
            },
            "type": "scatter3d"
           }
          ],
          "scattercarpet": [
           {
            "marker": {
             "colorbar": {
              "outlinewidth": 0,
              "ticks": ""
             }
            },
            "type": "scattercarpet"
           }
          ],
          "scattergeo": [
           {
            "marker": {
             "colorbar": {
              "outlinewidth": 0,
              "ticks": ""
             }
            },
            "type": "scattergeo"
           }
          ],
          "scattergl": [
           {
            "marker": {
             "colorbar": {
              "outlinewidth": 0,
              "ticks": ""
             }
            },
            "type": "scattergl"
           }
          ],
          "scattermap": [
           {
            "marker": {
             "colorbar": {
              "outlinewidth": 0,
              "ticks": ""
             }
            },
            "type": "scattermap"
           }
          ],
          "scattermapbox": [
           {
            "marker": {
             "colorbar": {
              "outlinewidth": 0,
              "ticks": ""
             }
            },
            "type": "scattermapbox"
           }
          ],
          "scatterpolar": [
           {
            "marker": {
             "colorbar": {
              "outlinewidth": 0,
              "ticks": ""
             }
            },
            "type": "scatterpolar"
           }
          ],
          "scatterpolargl": [
           {
            "marker": {
             "colorbar": {
              "outlinewidth": 0,
              "ticks": ""
             }
            },
            "type": "scatterpolargl"
           }
          ],
          "scatterternary": [
           {
            "marker": {
             "colorbar": {
              "outlinewidth": 0,
              "ticks": ""
             }
            },
            "type": "scatterternary"
           }
          ],
          "surface": [
           {
            "colorbar": {
             "outlinewidth": 0,
             "ticks": ""
            },
            "colorscale": [
             [
              0,
              "#0d0887"
             ],
             [
              0.1111111111111111,
              "#46039f"
             ],
             [
              0.2222222222222222,
              "#7201a8"
             ],
             [
              0.3333333333333333,
              "#9c179e"
             ],
             [
              0.4444444444444444,
              "#bd3786"
             ],
             [
              0.5555555555555556,
              "#d8576b"
             ],
             [
              0.6666666666666666,
              "#ed7953"
             ],
             [
              0.7777777777777778,
              "#fb9f3a"
             ],
             [
              0.8888888888888888,
              "#fdca26"
             ],
             [
              1,
              "#f0f921"
             ]
            ],
            "type": "surface"
           }
          ],
          "table": [
           {
            "cells": {
             "fill": {
              "color": "#EBF0F8"
             },
             "line": {
              "color": "white"
             }
            },
            "header": {
             "fill": {
              "color": "#C8D4E3"
             },
             "line": {
              "color": "white"
             }
            },
            "type": "table"
           }
          ]
         },
         "layout": {
          "annotationdefaults": {
           "arrowcolor": "#2a3f5f",
           "arrowhead": 0,
           "arrowwidth": 1
          },
          "autotypenumbers": "strict",
          "coloraxis": {
           "colorbar": {
            "outlinewidth": 0,
            "ticks": ""
           }
          },
          "colorscale": {
           "diverging": [
            [
             0,
             "#8e0152"
            ],
            [
             0.1,
             "#c51b7d"
            ],
            [
             0.2,
             "#de77ae"
            ],
            [
             0.3,
             "#f1b6da"
            ],
            [
             0.4,
             "#fde0ef"
            ],
            [
             0.5,
             "#f7f7f7"
            ],
            [
             0.6,
             "#e6f5d0"
            ],
            [
             0.7,
             "#b8e186"
            ],
            [
             0.8,
             "#7fbc41"
            ],
            [
             0.9,
             "#4d9221"
            ],
            [
             1,
             "#276419"
            ]
           ],
           "sequential": [
            [
             0,
             "#0d0887"
            ],
            [
             0.1111111111111111,
             "#46039f"
            ],
            [
             0.2222222222222222,
             "#7201a8"
            ],
            [
             0.3333333333333333,
             "#9c179e"
            ],
            [
             0.4444444444444444,
             "#bd3786"
            ],
            [
             0.5555555555555556,
             "#d8576b"
            ],
            [
             0.6666666666666666,
             "#ed7953"
            ],
            [
             0.7777777777777778,
             "#fb9f3a"
            ],
            [
             0.8888888888888888,
             "#fdca26"
            ],
            [
             1,
             "#f0f921"
            ]
           ],
           "sequentialminus": [
            [
             0,
             "#0d0887"
            ],
            [
             0.1111111111111111,
             "#46039f"
            ],
            [
             0.2222222222222222,
             "#7201a8"
            ],
            [
             0.3333333333333333,
             "#9c179e"
            ],
            [
             0.4444444444444444,
             "#bd3786"
            ],
            [
             0.5555555555555556,
             "#d8576b"
            ],
            [
             0.6666666666666666,
             "#ed7953"
            ],
            [
             0.7777777777777778,
             "#fb9f3a"
            ],
            [
             0.8888888888888888,
             "#fdca26"
            ],
            [
             1,
             "#f0f921"
            ]
           ]
          },
          "colorway": [
           "#636efa",
           "#EF553B",
           "#00cc96",
           "#ab63fa",
           "#FFA15A",
           "#19d3f3",
           "#FF6692",
           "#B6E880",
           "#FF97FF",
           "#FECB52"
          ],
          "font": {
           "color": "#2a3f5f"
          },
          "geo": {
           "bgcolor": "white",
           "lakecolor": "white",
           "landcolor": "#E5ECF6",
           "showlakes": true,
           "showland": true,
           "subunitcolor": "white"
          },
          "hoverlabel": {
           "align": "left"
          },
          "hovermode": "closest",
          "mapbox": {
           "style": "light"
          },
          "paper_bgcolor": "white",
          "plot_bgcolor": "#E5ECF6",
          "polar": {
           "angularaxis": {
            "gridcolor": "white",
            "linecolor": "white",
            "ticks": ""
           },
           "bgcolor": "#E5ECF6",
           "radialaxis": {
            "gridcolor": "white",
            "linecolor": "white",
            "ticks": ""
           }
          },
          "scene": {
           "xaxis": {
            "backgroundcolor": "#E5ECF6",
            "gridcolor": "white",
            "gridwidth": 2,
            "linecolor": "white",
            "showbackground": true,
            "ticks": "",
            "zerolinecolor": "white"
           },
           "yaxis": {
            "backgroundcolor": "#E5ECF6",
            "gridcolor": "white",
            "gridwidth": 2,
            "linecolor": "white",
            "showbackground": true,
            "ticks": "",
            "zerolinecolor": "white"
           },
           "zaxis": {
            "backgroundcolor": "#E5ECF6",
            "gridcolor": "white",
            "gridwidth": 2,
            "linecolor": "white",
            "showbackground": true,
            "ticks": "",
            "zerolinecolor": "white"
           }
          },
          "shapedefaults": {
           "line": {
            "color": "#2a3f5f"
           }
          },
          "ternary": {
           "aaxis": {
            "gridcolor": "white",
            "linecolor": "white",
            "ticks": ""
           },
           "baxis": {
            "gridcolor": "white",
            "linecolor": "white",
            "ticks": ""
           },
           "bgcolor": "#E5ECF6",
           "caxis": {
            "gridcolor": "white",
            "linecolor": "white",
            "ticks": ""
           }
          },
          "title": {
           "x": 0.05
          },
          "xaxis": {
           "automargin": true,
           "gridcolor": "white",
           "linecolor": "white",
           "ticks": "",
           "title": {
            "standoff": 15
           },
           "zerolinecolor": "white",
           "zerolinewidth": 2
          },
          "yaxis": {
           "automargin": true,
           "gridcolor": "white",
           "linecolor": "white",
           "ticks": "",
           "title": {
            "standoff": 15
           },
           "zerolinecolor": "white",
           "zerolinewidth": 2
          }
         }
        },
        "title": {
         "text": "Interactive 3D Embedding Visualization"
        },
        "width": 900
       }
      }
     },
     "metadata": {},
     "output_type": "display_data"
    }
   ],
   "source": [
    "import plotly.express as px\n",
    "\n",
    "fig = px.scatter_3d(\n",
    "    x=embeddings_3d[:,0],\n",
    "    y=embeddings_3d[:,1],\n",
    "    z=embeddings_3d[:,2],\n",
    "    hover_name=text,\n",
    "    color=list(range(len(text))),\n",
    "    title=\"Interactive 3D Embedding Visualization\",\n",
    "    labels={'x':'Dimension 1', 'y':'Dimension 2', 'z':'Dimension 3'}\n",
    ")\n",
    "fig.update_traces(marker=dict(size=5, opacity=0.7))\n",
    "fig.update_layout(coloraxis_colorbar_title_text=\"Line Index in Poem\", font_family='monospace', width=900, height=700)\n",
    "fig.show()"
   ]
  },
  {
   "cell_type": "markdown",
   "id": "25d0d325",
   "metadata": {},
   "source": [
    "## Visualization Explanation\n",
    "\n",
    "This interactive 3D scatter plot displays the sentence embeddings of lines from the poem \"Pangur Bán\" (by an anonymous Irish monk, c. 9th century), reduced to 3D space using t-SNE for dimensionality reduction. Each point represents one line of the poem, positioned based on its semantic similarity in the embedding space. The color gradient corresponds to the line index (0 to 31), indicating the sequential order in the poem. Hover over any point to view the full text of that line. This helps visualize how the model captures thematic and contextual relationships between the poem's verses."
   ]
  },
  {
   "cell_type": "code",
   "execution_count": null,
   "id": "c18d13d4",
   "metadata": {},
   "outputs": [],
   "source": []
  },
  {
   "cell_type": "code",
   "execution_count": null,
   "id": "0a63f099",
   "metadata": {},
   "outputs": [],
   "source": []
  },
  {
   "cell_type": "code",
   "execution_count": null,
   "id": "57696cb4",
   "metadata": {},
   "outputs": [],
   "source": []
  },
  {
   "cell_type": "code",
   "execution_count": null,
   "id": "4a1ff986",
   "metadata": {},
   "outputs": [],
   "source": []
  },
  {
   "cell_type": "code",
   "execution_count": null,
   "id": "a73675c7",
   "metadata": {},
   "outputs": [],
   "source": []
  }
 ],
 "metadata": {
  "kernelspec": {
   "display_name": "torch_env",
   "language": "python",
   "name": "python3"
  },
  "language_info": {
   "codemirror_mode": {
    "name": "ipython",
    "version": 3
   },
   "file_extension": ".py",
   "mimetype": "text/x-python",
   "name": "python",
   "nbconvert_exporter": "python",
   "pygments_lexer": "ipython3",
   "version": "3.12.2"
  }
 },
 "nbformat": 4,
 "nbformat_minor": 5
}
